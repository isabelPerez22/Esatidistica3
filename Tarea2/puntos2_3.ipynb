{
 "cells": [
  {
   "cell_type": "code",
   "execution_count": 1,
   "id": "74f12733-04c9-4fe8-99d2-0fc37b266339",
   "metadata": {},
   "outputs": [],
   "source": [
    "from sklearn.model_selection import train_test_split\n",
    "from sklearn.linear_model import LinearRegression\n",
    "from sklearn.impute import SimpleImputer\n",
    "from sklearn.preprocessing import OneHotEncoder, LabelEncoder\n",
    "import pandas as pd"
   ]
  },
  {
   "cell_type": "code",
   "execution_count": 2,
   "id": "7eecf8f3-05cc-4575-bd24-5fc9f8c4ba7d",
   "metadata": {},
   "outputs": [],
   "source": [
    "ruta_archivo = \"pruebas_saber_2023 (2).xlsx\"\n",
    "\n",
    "# Lee el archivo XLSX\n",
    "datos = pd.read_excel(ruta_archivo, index_col = 0)"
   ]
  },
  {
   "cell_type": "code",
   "execution_count": 3,
   "id": "b1f9c967-abb7-4ecc-8da0-81969d33103a",
   "metadata": {},
   "outputs": [
    {
     "data": {
      "text/html": [
       "<div>\n",
       "<style scoped>\n",
       "    .dataframe tbody tr th:only-of-type {\n",
       "        vertical-align: middle;\n",
       "    }\n",
       "\n",
       "    .dataframe tbody tr th {\n",
       "        vertical-align: top;\n",
       "    }\n",
       "\n",
       "    .dataframe thead th {\n",
       "        text-align: right;\n",
       "    }\n",
       "</style>\n",
       "<table border=\"1\" class=\"dataframe\">\n",
       "  <thead>\n",
       "    <tr style=\"text-align: right;\">\n",
       "      <th></th>\n",
       "      <th>ESTU_TIPODOCUMENTO</th>\n",
       "      <th>ESTU_NACIONALIDAD</th>\n",
       "      <th>ESTU_GENERO</th>\n",
       "      <th>ESTU_FECHANACIMIENTO</th>\n",
       "      <th>ESTU_EXTERIOR</th>\n",
       "      <th>PERIODO</th>\n",
       "      <th>ESTU_CONSECUTIVO</th>\n",
       "      <th>ESTU_ESTUDIANTE</th>\n",
       "      <th>ESTU_PAIS_RESIDE</th>\n",
       "      <th>ESTU_DEPTO_RESIDE</th>\n",
       "      <th>...</th>\n",
       "      <th>ESTU_PRIVADO_LIBERTAD</th>\n",
       "      <th>ESTU_COD_MCPIO_PRESENTACION</th>\n",
       "      <th>ESTU_MCPIO_PRESENTACION</th>\n",
       "      <th>ESTU_DEPTO_PRESENTACION</th>\n",
       "      <th>ESTU_COD_DEPTO_PRESENTACION</th>\n",
       "      <th>MOD_LECTURA_CRITICA_PUNT</th>\n",
       "      <th>ESTU_INSE_INDIVIDUAL</th>\n",
       "      <th>ESTU_NSE_INDIVIDUAL</th>\n",
       "      <th>ESTU_NSE_IES</th>\n",
       "      <th>ESTU_ESTADOINVESTIGACION</th>\n",
       "    </tr>\n",
       "  </thead>\n",
       "  <tbody>\n",
       "    <tr>\n",
       "      <th>0</th>\n",
       "      <td>TI</td>\n",
       "      <td>COLOMBIA</td>\n",
       "      <td>F</td>\n",
       "      <td>03/01/2001</td>\n",
       "      <td>NO</td>\n",
       "      <td>20231</td>\n",
       "      <td>EK202310108228</td>\n",
       "      <td>ESTUDIANTE</td>\n",
       "      <td>COLOMBIA</td>\n",
       "      <td>ATLANTICO</td>\n",
       "      <td>...</td>\n",
       "      <td>N</td>\n",
       "      <td>8001</td>\n",
       "      <td>BARRANQUILLA</td>\n",
       "      <td>ATLANTICO</td>\n",
       "      <td>8</td>\n",
       "      <td>164</td>\n",
       "      <td>61.403944</td>\n",
       "      <td>4.0</td>\n",
       "      <td>3</td>\n",
       "      <td>PUBLICAR</td>\n",
       "    </tr>\n",
       "    <tr>\n",
       "      <th>1</th>\n",
       "      <td>CC</td>\n",
       "      <td>COLOMBIA</td>\n",
       "      <td>M</td>\n",
       "      <td>14/06/2002</td>\n",
       "      <td>NO</td>\n",
       "      <td>20231</td>\n",
       "      <td>EK202310146951</td>\n",
       "      <td>ESTUDIANTE</td>\n",
       "      <td>COLOMBIA</td>\n",
       "      <td>ATLANTICO</td>\n",
       "      <td>...</td>\n",
       "      <td>N</td>\n",
       "      <td>8001</td>\n",
       "      <td>BARRANQUILLA</td>\n",
       "      <td>ATLANTICO</td>\n",
       "      <td>8</td>\n",
       "      <td>132</td>\n",
       "      <td>53.902622</td>\n",
       "      <td>2.0</td>\n",
       "      <td>3</td>\n",
       "      <td>PUBLICAR</td>\n",
       "    </tr>\n",
       "    <tr>\n",
       "      <th>2</th>\n",
       "      <td>CC</td>\n",
       "      <td>COLOMBIA</td>\n",
       "      <td>F</td>\n",
       "      <td>22/05/2002</td>\n",
       "      <td>NO</td>\n",
       "      <td>20231</td>\n",
       "      <td>EK202310146844</td>\n",
       "      <td>ESTUDIANTE</td>\n",
       "      <td>COLOMBIA</td>\n",
       "      <td>ATLANTICO</td>\n",
       "      <td>...</td>\n",
       "      <td>N</td>\n",
       "      <td>8001</td>\n",
       "      <td>BARRANQUILLA</td>\n",
       "      <td>ATLANTICO</td>\n",
       "      <td>8</td>\n",
       "      <td>150</td>\n",
       "      <td>65.881886</td>\n",
       "      <td>4.0</td>\n",
       "      <td>3</td>\n",
       "      <td>PUBLICAR</td>\n",
       "    </tr>\n",
       "    <tr>\n",
       "      <th>3</th>\n",
       "      <td>CC</td>\n",
       "      <td>COLOMBIA</td>\n",
       "      <td>F</td>\n",
       "      <td>02/06/2001</td>\n",
       "      <td>NO</td>\n",
       "      <td>20231</td>\n",
       "      <td>EK202310165034</td>\n",
       "      <td>ESTUDIANTE</td>\n",
       "      <td>COLOMBIA</td>\n",
       "      <td>ATLANTICO</td>\n",
       "      <td>...</td>\n",
       "      <td>N</td>\n",
       "      <td>8001</td>\n",
       "      <td>BARRANQUILLA</td>\n",
       "      <td>ATLANTICO</td>\n",
       "      <td>8</td>\n",
       "      <td>141</td>\n",
       "      <td>71.978823</td>\n",
       "      <td>4.0</td>\n",
       "      <td>3</td>\n",
       "      <td>PUBLICAR</td>\n",
       "    </tr>\n",
       "    <tr>\n",
       "      <th>4</th>\n",
       "      <td>CC</td>\n",
       "      <td>COLOMBIA</td>\n",
       "      <td>M</td>\n",
       "      <td>04/01/2002</td>\n",
       "      <td>NO</td>\n",
       "      <td>20231</td>\n",
       "      <td>EK202310155253</td>\n",
       "      <td>ESTUDIANTE</td>\n",
       "      <td>COLOMBIA</td>\n",
       "      <td>ATLANTICO</td>\n",
       "      <td>...</td>\n",
       "      <td>N</td>\n",
       "      <td>8001</td>\n",
       "      <td>BARRANQUILLA</td>\n",
       "      <td>ATLANTICO</td>\n",
       "      <td>8</td>\n",
       "      <td>147</td>\n",
       "      <td>67.067764</td>\n",
       "      <td>4.0</td>\n",
       "      <td>3</td>\n",
       "      <td>PUBLICAR</td>\n",
       "    </tr>\n",
       "  </tbody>\n",
       "</table>\n",
       "<p>5 rows × 78 columns</p>\n",
       "</div>"
      ],
      "text/plain": [
       "  ESTU_TIPODOCUMENTO ESTU_NACIONALIDAD ESTU_GENERO ESTU_FECHANACIMIENTO  \\\n",
       "0                 TI          COLOMBIA           F           03/01/2001   \n",
       "1                 CC          COLOMBIA           M           14/06/2002   \n",
       "2                 CC          COLOMBIA           F           22/05/2002   \n",
       "3                 CC          COLOMBIA           F           02/06/2001   \n",
       "4                 CC          COLOMBIA           M           04/01/2002   \n",
       "\n",
       "  ESTU_EXTERIOR  PERIODO ESTU_CONSECUTIVO ESTU_ESTUDIANTE ESTU_PAIS_RESIDE  \\\n",
       "0            NO    20231   EK202310108228      ESTUDIANTE         COLOMBIA   \n",
       "1            NO    20231   EK202310146951      ESTUDIANTE         COLOMBIA   \n",
       "2            NO    20231   EK202310146844      ESTUDIANTE         COLOMBIA   \n",
       "3            NO    20231   EK202310165034      ESTUDIANTE         COLOMBIA   \n",
       "4            NO    20231   EK202310155253      ESTUDIANTE         COLOMBIA   \n",
       "\n",
       "  ESTU_DEPTO_RESIDE  ...  ESTU_PRIVADO_LIBERTAD ESTU_COD_MCPIO_PRESENTACION  \\\n",
       "0         ATLANTICO  ...                      N                        8001   \n",
       "1         ATLANTICO  ...                      N                        8001   \n",
       "2         ATLANTICO  ...                      N                        8001   \n",
       "3         ATLANTICO  ...                      N                        8001   \n",
       "4         ATLANTICO  ...                      N                        8001   \n",
       "\n",
       "   ESTU_MCPIO_PRESENTACION ESTU_DEPTO_PRESENTACION  \\\n",
       "0             BARRANQUILLA               ATLANTICO   \n",
       "1             BARRANQUILLA               ATLANTICO   \n",
       "2             BARRANQUILLA               ATLANTICO   \n",
       "3             BARRANQUILLA               ATLANTICO   \n",
       "4             BARRANQUILLA               ATLANTICO   \n",
       "\n",
       "  ESTU_COD_DEPTO_PRESENTACION MOD_LECTURA_CRITICA_PUNT ESTU_INSE_INDIVIDUAL  \\\n",
       "0                           8                      164            61.403944   \n",
       "1                           8                      132            53.902622   \n",
       "2                           8                      150            65.881886   \n",
       "3                           8                      141            71.978823   \n",
       "4                           8                      147            67.067764   \n",
       "\n",
       "  ESTU_NSE_INDIVIDUAL ESTU_NSE_IES ESTU_ESTADOINVESTIGACION  \n",
       "0                 4.0            3                 PUBLICAR  \n",
       "1                 2.0            3                 PUBLICAR  \n",
       "2                 4.0            3                 PUBLICAR  \n",
       "3                 4.0            3                 PUBLICAR  \n",
       "4                 4.0            3                 PUBLICAR  \n",
       "\n",
       "[5 rows x 78 columns]"
      ]
     },
     "execution_count": 3,
     "metadata": {},
     "output_type": "execute_result"
    }
   ],
   "source": [
    "datos.head()"
   ]
  },
  {
   "cell_type": "code",
   "execution_count": 4,
   "id": "42929512-5dd4-487f-9e2b-87c543d7a86d",
   "metadata": {},
   "outputs": [
    {
     "data": {
      "text/plain": [
       "Index(['ESTU_TIPODOCUMENTO', 'ESTU_NACIONALIDAD', 'ESTU_GENERO',\n",
       "       'ESTU_FECHANACIMIENTO', 'ESTU_EXTERIOR', 'PERIODO', 'ESTU_CONSECUTIVO',\n",
       "       'ESTU_ESTUDIANTE', 'ESTU_PAIS_RESIDE', 'ESTU_DEPTO_RESIDE',\n",
       "       'ESTU_COD_RESIDE_DEPTO', 'ESTU_MCPIO_RESIDE', 'ESTU_COD_RESIDE_MCPIO',\n",
       "       'ESTU_AREARESIDE', 'ESTU_ESTADOCIVIL', 'ESTU_TITULOOBTENIDOBACHILLER',\n",
       "       'ESTU_VALORMATRICULAUNIVERSIDAD', 'ESTU_PAGOMATRICULABECA',\n",
       "       'ESTU_PAGOMATRICULACREDITO', 'ESTU_PAGOMATRICULAPADRES',\n",
       "       'ESTU_PAGOMATRICULAPROPIO', 'ESTU_COMOCAPACITOEXAMENSB11',\n",
       "       'ESTU_CURSODOCENTESIES', 'ESTU_CURSOIESAPOYOEXTERNO',\n",
       "       'ESTU_CURSOIESEXTERNA', 'ESTU_SIMULACROTIPOICFES',\n",
       "       'ESTU_ACTIVIDADREFUERZOAREAS', 'ESTU_ACTIVIDADREFUERZOGENERIC',\n",
       "       'ESTU_TIPODOCUMENTOSB11', 'ESTU_SEMESTRECURSA', 'FAMI_EDUCACIONPADRE',\n",
       "       'FAMI_EDUCACIONMADRE', 'FAMI_OCUPACIONPADRE', 'FAMI_OCUPACIONMADRE',\n",
       "       'FAMI_ESTRATOVIVIENDA', 'FAMI_TIENEINTERNET', 'FAMI_TIENECOMPUTADOR',\n",
       "       'FAMI_TIENELAVADORA', 'FAMI_TIENEHORNOMICROOGAS',\n",
       "       'FAMI_TIENESERVICIOTV', 'FAMI_TIENEAUTOMOVIL', 'FAMI_TIENEMOTOCICLETA',\n",
       "       'FAMI_TIENECONSOLAVIDEOJUEGOS', 'FAMI_TRABAJOLABORPADRE',\n",
       "       'FAMI_TRABAJOLABORMADRE', 'ESTU_HORASSEMANATRABAJA',\n",
       "       'FAMI_CUANTOSCOMPARTEBAÑO', 'ESTU_PAGOMATRICULA',\n",
       "       'ESTU_VLRULTIMOSEMESCURSADO', 'ESTU_PRESENTACIONCASA',\n",
       "       'ESTU_PRESENTACIONSABADO', 'INST_COD_INSTITUCION',\n",
       "       'INST_NOMBRE_INSTITUCION', 'ESTU_PRGM_ACADEMICO',\n",
       "       'ESTU_SNIES_PRGMACADEMICO', 'GRUPOREFERENCIA', 'ESTU_PRGM_CODMUNICIPIO',\n",
       "       'ESTU_PRGM_MUNICIPIO', 'ESTU_PRGM_DEPARTAMENTO',\n",
       "       'ESTU_NIVEL_PRGM_ACADEMICO', 'ESTU_METODO_PRGM', 'ESTU_NUCLEO_PREGRADO',\n",
       "       'ESTU_NUCLEO_PREGRADO_1', 'ESTU_INST_CODMUNICIPIO',\n",
       "       'ESTU_INST_MUNICIPIO', 'ESTU_INST_DEPARTAMENTO',\n",
       "       'INST_CARACTER_ACADEMICO', 'INST_ORIGEN', 'ESTU_PRIVADO_LIBERTAD',\n",
       "       'ESTU_COD_MCPIO_PRESENTACION', 'ESTU_MCPIO_PRESENTACION',\n",
       "       'ESTU_DEPTO_PRESENTACION', 'ESTU_COD_DEPTO_PRESENTACION',\n",
       "       'MOD_LECTURA_CRITICA_PUNT', 'ESTU_INSE_INDIVIDUAL',\n",
       "       'ESTU_NSE_INDIVIDUAL', 'ESTU_NSE_IES', 'ESTU_ESTADOINVESTIGACION'],\n",
       "      dtype='object')"
      ]
     },
     "execution_count": 4,
     "metadata": {},
     "output_type": "execute_result"
    }
   ],
   "source": [
    "datos.columns"
   ]
  },
  {
   "cell_type": "code",
   "execution_count": 5,
   "id": "891f5f1e-e992-4e80-87aa-92d0f44c0fe5",
   "metadata": {},
   "outputs": [],
   "source": [
    "columnas_a_eliminar = [\n",
    "    \"PERIODO\",\n",
    "    \"ESTU_EXTERIOR\",\n",
    "    \"ESTU_CONSECUTIVO\",\n",
    "    \"ESTU_ESTUDIANTE\",\n",
    "    \"ESTU_DEPTO_RESIDE\",\n",
    "    \"ESTU_MCPIO_RESIDE\",\n",
    "    \"ESTU_COD_RESIDE_MCPIO\",\n",
    "    \"FAMI_TRABAJOLABORPADRE\",\n",
    "    \"FAMI_TRABAJOLABORMADRE\",\n",
    "    \"FAMI_CUANTOSCOMPARTEBAÑO\",\n",
    "    \"ESTU_VLRULTIMOSEMESCURSADO\",\n",
    "    \"ESTU_PRESENTACIONCASA\",\n",
    "    \"INST_COD_INSTITUCION\",\n",
    "    \"INST_NOMBRE_INSTITUCION\",\n",
    "    \"ESTU_PRGM_ACADEMICO\",\n",
    "    \"ESTU_SNIES_PRGMACADEMICO\",\n",
    "    \"ESTU_PRGM_CODMUNICIPIO\",\n",
    "    \"ESTU_PRGM_MUNICIPIO\",\n",
    "    \"ESTU_NIVEL_PRGM_ACADEMICO\",\n",
    "    \"ESTU_NUCLEO_PREGRADO\",\n",
    "    \"ESTU_NUCLEO_PREGRADO_1\",\n",
    "    \"ESTU_INST_CODMUNICIPIO\",\n",
    "    \"ESTU_INST_MUNICIPIO\",\n",
    "    \"ESTU_COD_MCPIO_PRESENTACION\",\n",
    "    \"ESTU_MCPIO_PRESENTACION\",\n",
    "    \"ESTU_COD_DEPTO_PRESENTACION\",\n",
    "    \"ESTU_ESTADOINVESTIGACION\",\n",
    "    \"INST_COD_INSTITUCION\",\n",
    "    \"ESTU_INST_CODMUNICIPIO\",\n",
    "    \"ESTU_COD_MCPIO_PRESENTACION\",\n",
    "    \"ESTU_INST_CODMUNICIPIO\"\n",
    "]\n",
    "\n",
    "# Eliminar las columnas\n",
    "datos_sin_columnas = datos.drop(columnas_a_eliminar, axis=1)"
   ]
  },
  {
   "cell_type": "code",
   "execution_count": 7,
   "id": "ed187cf7-6d3f-4b2b-a8f2-e77124141b0b",
   "metadata": {},
   "outputs": [
    {
     "ename": "OutOfBoundsDatetime",
     "evalue": "Out of bounds nanosecond timestamp: 25/02/0099, at position 4198",
     "output_type": "error",
     "traceback": [
      "\u001b[1;31m---------------------------------------------------------------------------\u001b[0m",
      "\u001b[1;31mOverflowError\u001b[0m                             Traceback (most recent call last)",
      "File \u001b[1;32mconversion.pyx:326\u001b[0m, in \u001b[0;36mpandas._libs.tslibs.conversion._TSObject.ensure_reso\u001b[1;34m()\u001b[0m\n",
      "File \u001b[1;32mnp_datetime.pyx:683\u001b[0m, in \u001b[0;36mpandas._libs.tslibs.np_datetime.convert_reso\u001b[1;34m()\u001b[0m\n",
      "\u001b[1;31mOverflowError\u001b[0m: result would overflow",
      "\nThe above exception was the direct cause of the following exception:\n",
      "\u001b[1;31mOutOfBoundsDatetime\u001b[0m                       Traceback (most recent call last)",
      "Cell \u001b[1;32mIn[7], line 1\u001b[0m\n\u001b[1;32m----> 1\u001b[0m datos_sin_columnas[\u001b[38;5;124m'\u001b[39m\u001b[38;5;124mESTU_FECHANACIMIENTO\u001b[39m\u001b[38;5;124m'\u001b[39m] \u001b[38;5;241m=\u001b[39m \u001b[43mpd\u001b[49m\u001b[38;5;241;43m.\u001b[39;49m\u001b[43mto_datetime\u001b[49m\u001b[43m(\u001b[49m\u001b[43mdatos_sin_columnas\u001b[49m\u001b[43m[\u001b[49m\u001b[38;5;124;43m'\u001b[39;49m\u001b[38;5;124;43mESTU_FECHANACIMIENTO\u001b[39;49m\u001b[38;5;124;43m'\u001b[39;49m\u001b[43m]\u001b[49m\u001b[43m,\u001b[49m\u001b[43m \u001b[49m\u001b[38;5;28;43mformat\u001b[39;49m\u001b[38;5;241;43m=\u001b[39;49m\u001b[38;5;124;43m'\u001b[39;49m\u001b[38;5;124;43mmixed\u001b[39;49m\u001b[38;5;124;43m'\u001b[39;49m\u001b[43m)\u001b[49m\n",
      "File \u001b[1;32m~\\AppData\\Local\\Programs\\Python\\Python311\\Lib\\site-packages\\pandas\\core\\tools\\datetimes.py:1067\u001b[0m, in \u001b[0;36mto_datetime\u001b[1;34m(arg, errors, dayfirst, yearfirst, utc, format, exact, unit, infer_datetime_format, origin, cache)\u001b[0m\n\u001b[0;32m   1065\u001b[0m         result \u001b[38;5;241m=\u001b[39m arg\u001b[38;5;241m.\u001b[39mmap(cache_array)\n\u001b[0;32m   1066\u001b[0m     \u001b[38;5;28;01melse\u001b[39;00m:\n\u001b[1;32m-> 1067\u001b[0m         values \u001b[38;5;241m=\u001b[39m \u001b[43mconvert_listlike\u001b[49m\u001b[43m(\u001b[49m\u001b[43marg\u001b[49m\u001b[38;5;241;43m.\u001b[39;49m\u001b[43m_values\u001b[49m\u001b[43m,\u001b[49m\u001b[43m \u001b[49m\u001b[38;5;28;43mformat\u001b[39;49m\u001b[43m)\u001b[49m\n\u001b[0;32m   1068\u001b[0m         result \u001b[38;5;241m=\u001b[39m arg\u001b[38;5;241m.\u001b[39m_constructor(values, index\u001b[38;5;241m=\u001b[39marg\u001b[38;5;241m.\u001b[39mindex, name\u001b[38;5;241m=\u001b[39marg\u001b[38;5;241m.\u001b[39mname)\n\u001b[0;32m   1069\u001b[0m \u001b[38;5;28;01melif\u001b[39;00m \u001b[38;5;28misinstance\u001b[39m(arg, (ABCDataFrame, abc\u001b[38;5;241m.\u001b[39mMutableMapping)):\n",
      "File \u001b[1;32m~\\AppData\\Local\\Programs\\Python\\Python311\\Lib\\site-packages\\pandas\\core\\tools\\datetimes.py:435\u001b[0m, in \u001b[0;36m_convert_listlike_datetimes\u001b[1;34m(arg, format, name, utc, unit, errors, dayfirst, yearfirst, exact)\u001b[0m\n\u001b[0;32m    432\u001b[0m \u001b[38;5;28;01mif\u001b[39;00m \u001b[38;5;28mformat\u001b[39m \u001b[38;5;129;01mis\u001b[39;00m \u001b[38;5;129;01mnot\u001b[39;00m \u001b[38;5;28;01mNone\u001b[39;00m \u001b[38;5;129;01mand\u001b[39;00m \u001b[38;5;28mformat\u001b[39m \u001b[38;5;241m!=\u001b[39m \u001b[38;5;124m\"\u001b[39m\u001b[38;5;124mmixed\u001b[39m\u001b[38;5;124m\"\u001b[39m:\n\u001b[0;32m    433\u001b[0m     \u001b[38;5;28;01mreturn\u001b[39;00m _array_strptime_with_fallback(arg, name, utc, \u001b[38;5;28mformat\u001b[39m, exact, errors)\n\u001b[1;32m--> 435\u001b[0m result, tz_parsed \u001b[38;5;241m=\u001b[39m \u001b[43mobjects_to_datetime64\u001b[49m\u001b[43m(\u001b[49m\n\u001b[0;32m    436\u001b[0m \u001b[43m    \u001b[49m\u001b[43marg\u001b[49m\u001b[43m,\u001b[49m\n\u001b[0;32m    437\u001b[0m \u001b[43m    \u001b[49m\u001b[43mdayfirst\u001b[49m\u001b[38;5;241;43m=\u001b[39;49m\u001b[43mdayfirst\u001b[49m\u001b[43m,\u001b[49m\n\u001b[0;32m    438\u001b[0m \u001b[43m    \u001b[49m\u001b[43myearfirst\u001b[49m\u001b[38;5;241;43m=\u001b[39;49m\u001b[43myearfirst\u001b[49m\u001b[43m,\u001b[49m\n\u001b[0;32m    439\u001b[0m \u001b[43m    \u001b[49m\u001b[43mutc\u001b[49m\u001b[38;5;241;43m=\u001b[39;49m\u001b[43mutc\u001b[49m\u001b[43m,\u001b[49m\n\u001b[0;32m    440\u001b[0m \u001b[43m    \u001b[49m\u001b[43merrors\u001b[49m\u001b[38;5;241;43m=\u001b[39;49m\u001b[43merrors\u001b[49m\u001b[43m,\u001b[49m\n\u001b[0;32m    441\u001b[0m \u001b[43m    \u001b[49m\u001b[43mallow_object\u001b[49m\u001b[38;5;241;43m=\u001b[39;49m\u001b[38;5;28;43;01mTrue\u001b[39;49;00m\u001b[43m,\u001b[49m\n\u001b[0;32m    442\u001b[0m \u001b[43m\u001b[49m\u001b[43m)\u001b[49m\n\u001b[0;32m    444\u001b[0m \u001b[38;5;28;01mif\u001b[39;00m tz_parsed \u001b[38;5;129;01mis\u001b[39;00m \u001b[38;5;129;01mnot\u001b[39;00m \u001b[38;5;28;01mNone\u001b[39;00m:\n\u001b[0;32m    445\u001b[0m     \u001b[38;5;66;03m# We can take a shortcut since the datetime64 numpy array\u001b[39;00m\n\u001b[0;32m    446\u001b[0m     \u001b[38;5;66;03m# is in UTC\u001b[39;00m\n\u001b[0;32m    447\u001b[0m     out_unit \u001b[38;5;241m=\u001b[39m np\u001b[38;5;241m.\u001b[39mdatetime_data(result\u001b[38;5;241m.\u001b[39mdtype)[\u001b[38;5;241m0\u001b[39m]\n",
      "File \u001b[1;32m~\\AppData\\Local\\Programs\\Python\\Python311\\Lib\\site-packages\\pandas\\core\\arrays\\datetimes.py:2398\u001b[0m, in \u001b[0;36mobjects_to_datetime64\u001b[1;34m(data, dayfirst, yearfirst, utc, errors, allow_object, out_unit)\u001b[0m\n\u001b[0;32m   2395\u001b[0m \u001b[38;5;66;03m# if str-dtype, convert\u001b[39;00m\n\u001b[0;32m   2396\u001b[0m data \u001b[38;5;241m=\u001b[39m np\u001b[38;5;241m.\u001b[39masarray(data, dtype\u001b[38;5;241m=\u001b[39mnp\u001b[38;5;241m.\u001b[39mobject_)\n\u001b[1;32m-> 2398\u001b[0m result, tz_parsed \u001b[38;5;241m=\u001b[39m \u001b[43mtslib\u001b[49m\u001b[38;5;241;43m.\u001b[39;49m\u001b[43marray_to_datetime\u001b[49m\u001b[43m(\u001b[49m\n\u001b[0;32m   2399\u001b[0m \u001b[43m    \u001b[49m\u001b[43mdata\u001b[49m\u001b[43m,\u001b[49m\n\u001b[0;32m   2400\u001b[0m \u001b[43m    \u001b[49m\u001b[43merrors\u001b[49m\u001b[38;5;241;43m=\u001b[39;49m\u001b[43merrors\u001b[49m\u001b[43m,\u001b[49m\n\u001b[0;32m   2401\u001b[0m \u001b[43m    \u001b[49m\u001b[43mutc\u001b[49m\u001b[38;5;241;43m=\u001b[39;49m\u001b[43mutc\u001b[49m\u001b[43m,\u001b[49m\n\u001b[0;32m   2402\u001b[0m \u001b[43m    \u001b[49m\u001b[43mdayfirst\u001b[49m\u001b[38;5;241;43m=\u001b[39;49m\u001b[43mdayfirst\u001b[49m\u001b[43m,\u001b[49m\n\u001b[0;32m   2403\u001b[0m \u001b[43m    \u001b[49m\u001b[43myearfirst\u001b[49m\u001b[38;5;241;43m=\u001b[39;49m\u001b[43myearfirst\u001b[49m\u001b[43m,\u001b[49m\n\u001b[0;32m   2404\u001b[0m \u001b[43m    \u001b[49m\u001b[43mcreso\u001b[49m\u001b[38;5;241;43m=\u001b[39;49m\u001b[43mabbrev_to_npy_unit\u001b[49m\u001b[43m(\u001b[49m\u001b[43mout_unit\u001b[49m\u001b[43m)\u001b[49m\u001b[43m,\u001b[49m\n\u001b[0;32m   2405\u001b[0m \u001b[43m\u001b[49m\u001b[43m)\u001b[49m\n\u001b[0;32m   2407\u001b[0m \u001b[38;5;28;01mif\u001b[39;00m tz_parsed \u001b[38;5;129;01mis\u001b[39;00m \u001b[38;5;129;01mnot\u001b[39;00m \u001b[38;5;28;01mNone\u001b[39;00m:\n\u001b[0;32m   2408\u001b[0m     \u001b[38;5;66;03m# We can take a shortcut since the datetime64 numpy array\u001b[39;00m\n\u001b[0;32m   2409\u001b[0m     \u001b[38;5;66;03m#  is in UTC\u001b[39;00m\n\u001b[0;32m   2410\u001b[0m     \u001b[38;5;28;01mreturn\u001b[39;00m result, tz_parsed\n",
      "File \u001b[1;32mtslib.pyx:414\u001b[0m, in \u001b[0;36mpandas._libs.tslib.array_to_datetime\u001b[1;34m()\u001b[0m\n",
      "File \u001b[1;32mtslib.pyx:596\u001b[0m, in \u001b[0;36mpandas._libs.tslib.array_to_datetime\u001b[1;34m()\u001b[0m\n",
      "File \u001b[1;32mtslib.pyx:571\u001b[0m, in \u001b[0;36mpandas._libs.tslib.array_to_datetime\u001b[1;34m()\u001b[0m\n",
      "File \u001b[1;32mconversion.pyx:332\u001b[0m, in \u001b[0;36mpandas._libs.tslibs.conversion._TSObject.ensure_reso\u001b[1;34m()\u001b[0m\n",
      "\u001b[1;31mOutOfBoundsDatetime\u001b[0m: Out of bounds nanosecond timestamp: 25/02/0099, at position 4198"
     ]
    }
   ],
   "source": [
    "datos_sin_columnas['ESTU_FECHANACIMIENTO'] = pd.to_datetime(datos_sin_columnas['ESTU_FECHANACIMIENTO'], format='mixed')\n"
   ]
  },
  {
   "cell_type": "code",
   "execution_count": null,
   "id": "ee4ec878-a8f2-4650-a8ed-f36fe7e2b548",
   "metadata": {},
   "outputs": [],
   "source": [
    "datos_sin_columnas.head()\n",
    "import datetime\n",
    "\n",
    "# Calcular la edad\n",
    "datos_sin_columnas['EDAD'] = 2023 - datos_sin_columnas['ESTU_FECHANACIMIENTO'].dt.year\n",
    "\n",
    "# Ajustar la edad para aquellos que aún no han cumplido años en 2023\n",
    "datos_sin_columnas.loc[datos_sin_columnas['ESTU_FECHANACIMIENTO'].dt.month > datetime.datetime.now().month, 'EDAD'] -= 1\n",
    "\n",
    "# Mostrar las primeras filas del DataFrame resultante\n",
    "print(datos_sin_columnas[['ESTU_FECHANACIMIENTO', 'EDAD']].head())"
   ]
  },
  {
   "cell_type": "code",
   "execution_count": null,
   "id": "b8cd4656-14eb-4efd-b483-ee859c927233",
   "metadata": {},
   "outputs": [],
   "source": [
    "datos_sin_columnas = datos_sin_columnas.drop('ESTU_FECHANACIMIENTO', axis=1)"
   ]
  },
  {
   "cell_type": "code",
   "execution_count": null,
   "id": "4c8f47af-cd41-412e-9ef1-5afef4830332",
   "metadata": {},
   "outputs": [],
   "source": [
    "#para calcular la edad \n",
    "tipos_de_datos = datos_sin_columnas.dtypes\n",
    "\n",
    "# Inicializar listas para almacenar las columnas categóricas y numéricas\n",
    "columnas_categoricas = []\n",
    "columnas_numericas = []\n",
    "\n",
    "# Iterar sobre los tipos de datos y separar las columnas\n",
    "for columna, tipo in tipos_de_datos.items():\n",
    "    if tipo == 'object':\n",
    "        columnas_categoricas.append(columna)\n",
    "    else:\n",
    "        columnas_numericas.append(columna)"
   ]
  },
  {
   "cell_type": "code",
   "execution_count": null,
   "id": "25a62d03-b935-4ab2-af3f-ff298e54015c",
   "metadata": {},
   "outputs": [],
   "source": [
    "##esto es para variables categoricas que tiene muchas variables entre si, que son de alta cardinalidad\n",
    "variables_alta_cardinalidad = ['ESTU_PRGM_DEPARTAMENTO', 'ESTU_AREARESIDE', 'ESTU_PAIS_RESIDE', 'ESTU_COD_RESIDE_DEPTO']\n",
    "\n",
    "# Reemplazar los valores categóricos por porcentajes\n",
    "for variable in variables_alta_cardinalidad:\n",
    "    # Calcular el porcentaje de cada categoría\n",
    "    porcentaje_categorias = datos_sin_columnas[variable].value_counts(normalize=True) \n",
    "    # Mapear los valores categóricos con sus porcentajes\n",
    "    datos_sin_columnas[variable] = datos_sin_columnas[variable].map(porcentaje_categorias)\n",
    "\n",
    "# Verificar el resultado\n",
    "datos_sin_columnas.head()"
   ]
  },
  {
   "cell_type": "code",
   "execution_count": null,
   "id": "d579758d-6440-4287-b706-eef9563ecf37",
   "metadata": {},
   "outputs": [],
   "source": [
    "## aqui vemos la frecuencia, ejem plo donde aparece 13 colocamos la frecuencia que en este caso es 0.53\n",
    "datos[variable].value_counts(normalize=True) "
   ]
  },
  {
   "cell_type": "code",
   "execution_count": null,
   "id": "3ef6d02e-0c98-4f20-b490-a9110fad74d8",
   "metadata": {},
   "outputs": [],
   "source": [
    "datos_sin_columnas[columnas_numericas]"
   ]
  },
  {
   "cell_type": "code",
   "execution_count": null,
   "id": "159dbb49-16dd-4f1a-a8d6-49071947c47f",
   "metadata": {},
   "outputs": [],
   "source": [
    "# Inicializar el codificador de etiquetas\n",
    "label_encoder = LabelEncoder()\n",
    "\n",
    "# Iterar sobre las columnas categóricas y aplicar Label Encoding\n",
    "for columna in columnas_categoricas:\n",
    "    datos_sin_columnas[columna] = label_encoder.fit_transform(datos_sin_columnas[columna])"
   ]
  },
  {
   "cell_type": "code",
   "execution_count": null,
   "id": "47de62eb-4a29-4821-8d5b-8aac70ca01a0",
   "metadata": {},
   "outputs": [],
   "source": [
    "datos_sin_columnas[columnas_categoricas]"
   ]
  },
  {
   "cell_type": "code",
   "execution_count": null,
   "id": "57f64c26-7d6f-4a03-b337-94e195ad092b",
   "metadata": {},
   "outputs": [],
   "source": [
    "datos_sin_columnas[columnas_categoricas]"
   ]
  },
  {
   "cell_type": "code",
   "execution_count": null,
   "id": "76214df3-0131-4619-a064-a2dcf5fad0f5",
   "metadata": {},
   "outputs": [],
   "source": [
    "imputer_categorico = SimpleImputer(strategy='most_frequent')\n",
    "datos_sin_columnas[columnas_categoricas] = imputer_categorico.fit_transform(datos_sin_columnas[columnas_categoricas])\n",
    "\n",
    "# Imputar la media en las variables numéricas\n",
    "imputer_numerico = SimpleImputer(strategy='mean')\n",
    "datos_sin_columnas[columnas_numericas] = imputer_numerico.fit_transform(datos_sin_columnas[columnas_numericas])\n"
   ]
  },
  {
   "cell_type": "code",
   "execution_count": null,
   "id": "c14144d9-3971-410e-9343-e2c9cabb02d4",
   "metadata": {},
   "outputs": [],
   "source": [
    "datos_sin_columnas[columnas_categoricas]"
   ]
  },
  {
   "cell_type": "code",
   "execution_count": null,
   "id": "e54f5951-70f3-48b9-b432-81f2fca1ca27",
   "metadata": {},
   "outputs": [],
   "source": [
    "datos_sin_columnas.corr()\n",
    "#punto 2 correlacion cuales variables tiene correlacion alta entre si, y cuales tienen correlacion con la variable a predecir "
   ]
  },
  {
   "cell_type": "code",
   "execution_count": null,
   "id": "79e09d8f-4360-4fe8-ba3a-27465ddfecfe",
   "metadata": {},
   "outputs": [],
   "source": [
    "import seaborn as sns\n",
    "import matplotlib.pyplot as plt\n",
    "\n",
    "# Supongamos que 'datos' es tu DataFrame\n",
    "\n",
    "# Calcular la matriz de correlación\n",
    "matriz_correlacion = datos_sin_columnas.corr()\n",
    "\n",
    "# Configurar el estilo de seaborn\n",
    "sns.set(style=\"white\") \n",
    "\n",
    "# Crear el mapa de calor de la matriz de correlación\n",
    "plt.figure(figsize=(10, 8))  # Ajusta el tamaño de la figura según sea necesario\n",
    "sns.heatmap(matriz_correlacion,  cmap=\"coolwarm\", fmt=\".2f\", linewidths=0.5)\n",
    "plt.title(\"Matriz de correlación\")\n",
    "plt.show()"
   ]
  },
  {
   "cell_type": "code",
   "execution_count": null,
   "id": "2f803225-6f5d-4dfa-bf82-04bc4d01e849",
   "metadata": {},
   "outputs": [],
   "source": [
    "#para ver las variables que tiene correlacion alta entre ellas y como se comporta conb la variable objetivo\n"
   ]
  },
  {
   "cell_type": "code",
   "execution_count": null,
   "id": "c7911910-baf8-46a4-9659-27ed53da399c",
   "metadata": {},
   "outputs": [],
   "source": [
    "datos_sin_columnas.isnull().sum()"
   ]
  },
  {
   "cell_type": "code",
   "execution_count": null,
   "id": "dcc5e7d3-1b75-4938-81ad-3f13a9955148",
   "metadata": {},
   "outputs": [],
   "source": [
    "##_____punto 2\n",
    "Y = datos_sin_columnas['MOD_LECTURA_CRITICA_PUNT']"
   ]
  },
  {
   "cell_type": "code",
   "execution_count": null,
   "id": "f4e265c9-3016-4d7b-8b82-a49b8ae394b4",
   "metadata": {},
   "outputs": [],
   "source": [
    "X = datos_sin_columnas.drop(columns = 'MOD_LECTURA_CRITICA_PUNT', axis = 1 )"
   ]
  },
  {
   "cell_type": "code",
   "execution_count": null,
   "id": "cc7d02e8-d61d-41b6-8193-d01af5e99fc7",
   "metadata": {},
   "outputs": [],
   "source": [
    "##tenemos variables regresoras y la que vamos predecir \n",
    "X_train, X_test, y_train, y_test = train_test_split(X, Y, test_size=0.2, random_state=42)\n"
   ]
  },
  {
   "cell_type": "code",
   "execution_count": null,
   "id": "f11eb878-909e-4483-b275-1a629c22a033",
   "metadata": {},
   "outputs": [],
   "source": [
    "##para entrenar el modelo, primero se estandariza las variables para que queden en una misma medida\n",
    "from sklearn.preprocessing import StandardScaler\n",
    "\n",
    "# Inicializar el transformador StandardScaler\n",
    "scaler = StandardScaler()\n",
    "\n",
    "# Ajustar y transformar los datos\n",
    "datos_estandarizados = scaler.fit_transform(X_train)\n",
    "\n",
    "datos_estandarizados_test = scaler.fit_transform(X_test)"
   ]
  },
  {
   "cell_type": "code",
   "execution_count": null,
   "id": "de44b3e2-775c-43d6-807f-94885e32430e",
   "metadata": {},
   "outputs": [],
   "source": [
    "## ENTREBAR REGRESION LINEAL \n",
    "#2.2. Entrenar un modelos de regresión\n",
    "\n",
    "modelo_regresion = LinearRegression()\n",
    "\n",
    "# Entrenar el modelo utilizando los datos de entrenamiento\n",
    "modelo_regresion.fit(datos_estandarizados, y_train)\n",
    "\n"
   ]
  },
  {
   "cell_type": "code",
   "execution_count": null,
   "id": "ad90f328-a0fd-48d0-a53b-c62b54dfee00",
   "metadata": {},
   "outputs": [],
   "source": [
    "#variables con alta cardinalidad \n",
    "#2.1. Aplique las transformaciones más importantes a los datos. (Hint calcular la edad\n",
    "#basada en la fecha de nacimiento, agrupar variables categóricas con mucha\n",
    "#cardinalidad en grupos).\n"
   ]
  },
  {
   "cell_type": "code",
   "execution_count": null,
   "id": "a97bce52-93b3-432e-9ebd-902bb816a8fd",
   "metadata": {},
   "outputs": [],
   "source": [
    "##ya esta entrenado el modelo"
   ]
  },
  {
   "cell_type": "code",
   "execution_count": null,
   "id": "bffa0039-6e77-4274-9316-4bf5741094e2",
   "metadata": {},
   "outputs": [],
   "source": [
    "#2.3. ¿Cuál es el mejor R squared? Cuál es el MAPE y el MSE.\n",
    "#calcular  R squared  MAPE y el MSE.\n",
    "from sklearn.metrics import r2_score, mean_absolute_error, mean_squared_error\n",
    "import numpy as np\n",
    "\n",
    "y_pred = modelo_regresion.predict(datos_estandarizados_test)\n",
    "\n",
    "# Supongamos que 'y_test' es el vector de valores reales y 'y_pred' es el vector de valores predichos por tu modelo\n",
    "\n",
    "# Calcular R cuadrado\n",
    "r2 = r2_score(y_test, y_pred)\n",
    "\n",
    "# Calcular el Error Absoluto Porcentual Medio (MAPE)\n",
    "def mape(y_test, y_pred):\n",
    "    return np.mean(np.abs((y_test - y_pred) / y_test)) * 100\n",
    "mape_score = mape(y_test, y_pred)\n",
    "\n",
    "# Calcular el Error Cuadrático Medio (MSE)\n",
    "mse = mean_squared_error(y_test, y_pred)\n",
    "\n",
    "# Mostrar los resultados\n",
    "print(\"R cuadrado (R^2):\", r2)\n",
    "print(\"MAPE:\", mape_score)\n",
    "print(\"MSE:\", mse)\n",
    "\n"
   ]
  },
  {
   "cell_type": "code",
   "execution_count": null,
   "id": "639b3e62-f702-4a38-abee-a51514fdeece",
   "metadata": {},
   "outputs": [],
   "source": [
    "#para los training para entrenamiento el mejor es el de entrenamiento punto 2.2\n",
    "y_pred = modelo_regresion.predict(datos_estandarizados)\n",
    "\n",
    "# Supongamos que 'y_train' es el vector de valores reales y 'y_pred' es el vector de valores predichos por tu modelo\n",
    "\n",
    "# Calcular R cuadrado\n",
    "r2 = r2_score(y_train, y_pred)\n",
    "\n",
    "# Calcular el Error Absoluto Porcentual Medio (MAPE)\n",
    "def mape(y_train, y_pred):\n",
    "    return np.mean(np.abs((y_train - y_pred) / y_train)) * 100\n",
    "mape_score = mape(y_train, y_pred)\n",
    "\n",
    "# Calcular el Error Cuadrático Medio (MSE)\n",
    "mse = mean_squared_error(y_train, y_pred)\n",
    "\n",
    "# Mostrar los resultados\n",
    "print(\"R cuadrado (R^2):\", r2)\n",
    "print(\"MAPE:\", mape_score)\n",
    "print(\"MSE:\", mse)"
   ]
  },
  {
   "cell_type": "code",
   "execution_count": null,
   "id": "730982ea-c162-4e34-b2c8-41d0333fdef9",
   "metadata": {},
   "outputs": [],
   "source": [
    "#4Utilizando los datos de test medir el MAPE y el MSE de test. Qué tan diferentes son las\n",
    "#métricas de training. (El menor error del grupo tiene un +1)\n",
    "\n",
    "hay diferencias en las metricas "
   ]
  },
  {
   "cell_type": "code",
   "execution_count": null,
   "id": "af479cd7-013a-4331-a418-3131a1c398ab",
   "metadata": {},
   "outputs": [],
   "source": [
    "#3. Remueva las variables que nos son relevantes\n",
    "Se descartaron las variables por observación de los datos "
   ]
  },
  {
   "cell_type": "code",
   "execution_count": null,
   "id": "b47f349a-f0c7-42c0-a126-5e60c2209164",
   "metadata": {},
   "outputs": [],
   "source": [
    "#. Describa en palabras que dice el modelo cuales son los principales hallazgos\n",
    "!pip install shap\n"
   ]
  },
  {
   "cell_type": "code",
   "execution_count": null,
   "id": "576726aa-b2df-49a4-a5c6-085d0ca11c9a",
   "metadata": {},
   "outputs": [],
   "source": [
    "import shap\n",
    "\n",
    "# Crear un objeto Explainer de SHAP con el modelo entrenado y los datos de entrenamiento\n",
    "explainer = shap.Explainer(modelo_regresion, datos_estandarizados)\n",
    "\n",
    "# Calcular SHAP values para el conjunto de datos de prueba\n",
    "shap_values = explainer.shap_values(datos_estandarizados_test)\n",
    "\n",
    "# Mostrar el resumen de los SHAP values\n",
    "shap.summary_plot(shap_values, datos_estandarizados_test, feature_name = X.col )\n"
   ]
  },
  {
   "cell_type": "code",
   "execution_count": null,
   "id": "c129b03b-df7f-4a78-b046-51cd6b069d67",
   "metadata": {},
   "outputs": [],
   "source": [
    "##en este ejemplo el que tiene mayor impacto  \n",
    "#como se interpreta el grafico para responder la pregunta "
   ]
  },
  {
   "cell_type": "code",
   "execution_count": null,
   "id": "9ce055bb-163b-4069-8155-2bcd10fa1cca",
   "metadata": {},
   "outputs": [],
   "source": [
    "##PUNTO 3 KNN\n",
    "# YA COMO TENEMOS ESTANDARIZADOS LOS DATOS APLICAMOS DE UNA VEZ KNN"
   ]
  },
  {
   "cell_type": "code",
   "execution_count": null,
   "id": "1031b973-3857-4b0a-9f48-92d89aac66a3",
   "metadata": {},
   "outputs": [],
   "source": [
    "def calculatemetricas(X_traint, true, knn):\n",
    "    predict = knn.predict(X_traint)\n",
    "    mse = mean_squared_error(true, predict)\n",
    "    metri_mape= mape(true, predict)\n",
    "    return mse, metri_mape"
   ]
  },
  {
   "cell_type": "code",
   "execution_count": null,
   "id": "5730e667-75ab-4fa4-9164-f2c21c832c96",
   "metadata": {},
   "outputs": [],
   "source": [
    "##este es para testeo \n",
    "from sklearn.neighbors import KNeighborsRegressor\n",
    "from sklearn.metrics import mean_squared_error\n",
    "from sklearn.model_selection import train_test_split\n",
    "import numpy as np\n",
    "\n",
    "# Supongamos que X y y son tus características y etiquetas respectivamente\n",
    "\n",
    "\n",
    "# Definir los valores de k a probar\n",
    "vecinos = [5, 10, 20, 30]\n",
    "\n",
    "# Almacenar los resultados del MSE para cada valor de k\n",
    "mse_resultados = []\n",
    "\n",
    "# Iterar sobre cada valor de k\n",
    "for k in vecinos:\n",
    "    # Inicializar el modelo KNN\n",
    "    knn = KNeighborsRegressor(n_neighbors=k)\n",
    "    \n",
    "    # Entrenar el modelo KNN con el conjunto de entrenamiento\n",
    "    knn.fit(datos_estandarizados, y_train)\n",
    "    #para train \n",
    "    mse_train, mape_train = calculatemetricas(datos_estandarizados, y_train, knn)\n",
    "    #para test\n",
    "    mse_test, mape_test = calculatemetricas(datos_estandarizados_test, y_test, knn)\n",
    "    print(\"para el k = \", k)\n",
    "    print(\"para el mse_train = \", mse_train)\n",
    "    print(\"para el mse_test = \", mse_test)\n",
    "    print(\"para el mape_train = \", mape_train)\n",
    "    print(\"para el mape_test = \", mape_test)\n",
    "\n"
   ]
  },
  {
   "cell_type": "code",
   "execution_count": null,
   "id": "2e8675ab-2b20-45d2-867e-64526aa6cc3d",
   "metadata": {},
   "outputs": [],
   "source": [
    "mse_resultados"
   ]
  },
  {
   "cell_type": "code",
   "execution_count": null,
   "id": "e5cedaeb-8730-4ef8-95d9-459d85480df3",
   "metadata": {},
   "outputs": [],
   "source": []
  },
  {
   "cell_type": "code",
   "execution_count": null,
   "id": "35f0964d-2585-421a-ace9-40dd0d1a0887",
   "metadata": {},
   "outputs": [],
   "source": []
  }
 ],
 "metadata": {
  "kernelspec": {
   "display_name": "Python 3 (ipykernel)",
   "language": "python",
   "name": "python3"
  },
  "language_info": {
   "codemirror_mode": {
    "name": "ipython",
    "version": 3
   },
   "file_extension": ".py",
   "mimetype": "text/x-python",
   "name": "python",
   "nbconvert_exporter": "python",
   "pygments_lexer": "ipython3",
   "version": "3.11.4"
  }
 },
 "nbformat": 4,
 "nbformat_minor": 5
}
