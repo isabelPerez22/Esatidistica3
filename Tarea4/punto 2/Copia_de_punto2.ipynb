{
  "metadata": {
    "kernelspec": {
      "language": "python",
      "display_name": "Python 3",
      "name": "python3"
    },
    "language_info": {
      "pygments_lexer": "ipython3",
      "nbconvert_exporter": "python",
      "version": "3.6.4",
      "file_extension": ".py",
      "codemirror_mode": {
        "name": "ipython",
        "version": 3
      },
      "name": "python",
      "mimetype": "text/x-python"
    },
    "kaggle": {
      "accelerator": "none",
      "dataSources": [
        {
          "sourceId": 80459,
          "databundleVersionId": 8621017,
          "sourceType": "competition"
        }
      ],
      "isInternetEnabled": false,
      "language": "python",
      "sourceType": "notebook",
      "isGpuEnabled": false
    },
    "colab": {
      "provenance": []
    }
  },
  "nbformat_minor": 0,
  "nbformat": 4,
  "cells": [
    {
      "cell_type": "code",
      "source": [],
      "metadata": {
        "id": "pAvJH5fztMyH"
      },
      "execution_count": 9,
      "outputs": []
    },
    {
      "cell_type": "code",
      "source": [],
      "metadata": {
        "id": "qPUdBZqBZuU4"
      },
      "execution_count": null,
      "outputs": []
    },
    {
      "cell_type": "code",
      "source": [],
      "metadata": {
        "id": "DXQccR8KtXBy"
      },
      "execution_count": 9,
      "outputs": []
    },
    {
      "cell_type": "code",
      "source": [
        "# This Python 3 environment comes with many helpful analytics libraries installed\n",
        "# It is defined by the kaggle/python Docker image: https://github.com/kaggle/docker-python\n",
        "# For example, here's several helpful packages to load\n",
        "\n",
        "import numpy as np # linear algebra\n",
        "import pandas as pd # data processing, CSV file I/O (e.g. pd.read_csv)\n",
        "\n",
        "# Input data files are available in the read-only \"../input/\" directory\n",
        "# For example, running this (by clicking run or pressing Shift+Enter) will list all files under the input directory\n",
        "\n",
        "import os\n",
        "for dirname, _, filenames in os.walk('/kaggle/input'):\n",
        "    for filename in filenames:\n",
        "        print(os.path.join(dirname, filename))\n",
        "\n",
        "# You can write up to 20GB to the current directory (/kaggle/working/) that gets preserved as output when you create a version using \"Save & Run All\"\n",
        "# You can also write temporary files to /kaggle/temp/, but they won't be saved outside of the current session"
      ],
      "metadata": {
        "_uuid": "8f2839f25d086af736a60e9eeb907d3b93b6e0e5",
        "_cell_guid": "b1076dfc-b9ad-4769-8c92-a6c4dae69d19",
        "trusted": true,
        "id": "p5ioqx-4tI25",
        "colab": {
          "base_uri": "https://localhost:8080/",
          "height": 0
        },
        "outputId": "8b6a52b9-f6a5-4754-97a4-eb1668ebf896"
      },
      "execution_count": 10,
      "outputs": [
        {
          "output_type": "stream",
          "name": "stdout",
          "text": [
            "/kaggle/input/clasificar-texto-lstm/test.csv\n",
            "/kaggle/input/clasificar-texto-lstm/train.csv\n"
          ]
        }
      ]
    },
    {
      "cell_type": "code",
      "source": [
        "!pip install requests"
      ],
      "metadata": {
        "id": "Rf0ONjLbtX1u",
        "outputId": "c713786c-ded3-4338-f3d5-f5fa3be24c2d",
        "colab": {
          "base_uri": "https://localhost:8080/",
          "height": 0
        }
      },
      "execution_count": 11,
      "outputs": [
        {
          "output_type": "stream",
          "name": "stdout",
          "text": [
            "Requirement already satisfied: requests in /usr/local/lib/python3.10/dist-packages (2.31.0)\n",
            "Requirement already satisfied: charset-normalizer<4,>=2 in /usr/local/lib/python3.10/dist-packages (from requests) (3.3.2)\n",
            "Requirement already satisfied: idna<4,>=2.5 in /usr/local/lib/python3.10/dist-packages (from requests) (3.7)\n",
            "Requirement already satisfied: urllib3<3,>=1.21.1 in /usr/local/lib/python3.10/dist-packages (from requests) (2.0.7)\n",
            "Requirement already satisfied: certifi>=2017.4.17 in /usr/local/lib/python3.10/dist-packages (from requests) (2024.2.2)\n"
          ]
        }
      ]
    },
    {
      "cell_type": "code",
      "source": [
        "!pip install nltk"
      ],
      "metadata": {
        "id": "4JElrYpStbCe",
        "outputId": "44993461-d721-445a-8eca-4111688bd0e3",
        "colab": {
          "base_uri": "https://localhost:8080/",
          "height": 0
        }
      },
      "execution_count": 12,
      "outputs": [
        {
          "output_type": "stream",
          "name": "stdout",
          "text": [
            "Requirement already satisfied: nltk in /usr/local/lib/python3.10/dist-packages (3.8.1)\n",
            "Requirement already satisfied: click in /usr/local/lib/python3.10/dist-packages (from nltk) (8.1.7)\n",
            "Requirement already satisfied: joblib in /usr/local/lib/python3.10/dist-packages (from nltk) (1.4.2)\n",
            "Requirement already satisfied: regex>=2021.8.3 in /usr/local/lib/python3.10/dist-packages (from nltk) (2024.5.15)\n",
            "Requirement already satisfied: tqdm in /usr/local/lib/python3.10/dist-packages (from nltk) (4.66.4)\n"
          ]
        }
      ]
    },
    {
      "cell_type": "code",
      "source": [
        "import requests\n",
        "import numpy as np\n",
        "import pandas as pd\n",
        "import re\n",
        "from collections import defaultdict\n",
        "import matplotlib.pyplot as plt\n",
        "import seaborn as sns\n",
        "from sklearn.feature_extraction.text import CountVectorizer\n",
        "from sklearn.feature_extraction.text import TfidfVectorizer\n",
        "from sklearn.linear_model import LogisticRegression\n",
        "from sklearn.ensemble import RandomForestClassifier, GradientBoostingClassifier\n",
        "from sklearn.metrics import confusion_matrix, accuracy_score, precision_score, recall_score\n",
        "from sklearn.preprocessing import StandardScaler\n",
        "import matplotlib.pyplot as plt\n",
        "import nltk\n",
        "from nltk.corpus import stopwords\n",
        "from nltk.tokenize import word_tokenize\n",
        "from sklearn.model_selection import train_test_split"
      ],
      "metadata": {
        "id": "-3r30lgDtjVQ"
      },
      "execution_count": 13,
      "outputs": []
    },
    {
      "cell_type": "markdown",
      "source": [
        "a. Crear un código python para invocar el servicio proporcionado y leer los datos en un dataframe (Puede utilizar la libreria request)"
      ],
      "metadata": {
        "id": "YStZhP0at9dG"
      }
    },
    {
      "cell_type": "code",
      "source": [
        "\n",
        "train = \"/content/train.csv\"\n"
      ],
      "metadata": {
        "id": "cWJcF8kvt_l4"
      },
      "execution_count": 14,
      "outputs": []
    },
    {
      "cell_type": "code",
      "source": [
        "data = pd.read_csv(\"/content/train.csv\")\n"
      ],
      "metadata": {
        "id": "HYE_Br2vus6r"
      },
      "execution_count": 15,
      "outputs": []
    },
    {
      "cell_type": "code",
      "source": [],
      "metadata": {
        "id": "AvZidHJkyig9"
      },
      "execution_count": null,
      "outputs": []
    },
    {
      "cell_type": "code",
      "source": [
        "df = pd.DataFrame(data)"
      ],
      "metadata": {
        "id": "-Cxz9B9huT9i"
      },
      "execution_count": 16,
      "outputs": []
    },
    {
      "cell_type": "code",
      "source": [
        "df"
      ],
      "metadata": {
        "id": "dq6SWn-8wJQg",
        "outputId": "a057eefe-375b-43dd-a261-20094da0a66a",
        "colab": {
          "base_uri": "https://localhost:8080/",
          "height": 424
        }
      },
      "execution_count": 17,
      "outputs": [
        {
          "output_type": "execute_result",
          "data": {
            "text/plain": [
              "     index                                             titulo  \\\n",
              "0      610  \"De nada sirven los triunfos si la paz no los ...   \n",
              "1      819  \"Hay mejores formas para uno mostrar su forma ...   \n",
              "2      637                #LosNacionalesXSeñal - Bahía Cupica   \n",
              "3      740  #LosNacionalesXSeñal - Estudiantes Utech balon...   \n",
              "4      160  #LosNacionalesXSeñal - Las pruebas de triatlón...   \n",
              "..     ...                                                ...   \n",
              "795    778               ¿Qué harías tú? - Esto se puso salsa   \n",
              "796     93                     ¿Qué opinas sobre el machismo?   \n",
              "797    906  ¿Te cortarón los servicios?.. Tranquilo ya est...   \n",
              "798    440  Óscar Figueroa, con dos medallas en el Mundial...   \n",
              "799    419  Último día de competencias del Ciclismo de Pis...   \n",
              "\n",
              "                categoria  \n",
              "0    Película y Animación  \n",
              "1    Película y Animación  \n",
              "2                Deportes  \n",
              "3                Deportes  \n",
              "4                Deportes  \n",
              "..                    ...  \n",
              "795       Entretenimiento  \n",
              "796  Película y Animación  \n",
              "797  Película y Animación  \n",
              "798              Deportes  \n",
              "799              Deportes  \n",
              "\n",
              "[800 rows x 3 columns]"
            ],
            "text/html": [
              "\n",
              "  <div id=\"df-75d83a1a-85bf-4934-9e2a-a648354d6fdc\" class=\"colab-df-container\">\n",
              "    <div>\n",
              "<style scoped>\n",
              "    .dataframe tbody tr th:only-of-type {\n",
              "        vertical-align: middle;\n",
              "    }\n",
              "\n",
              "    .dataframe tbody tr th {\n",
              "        vertical-align: top;\n",
              "    }\n",
              "\n",
              "    .dataframe thead th {\n",
              "        text-align: right;\n",
              "    }\n",
              "</style>\n",
              "<table border=\"1\" class=\"dataframe\">\n",
              "  <thead>\n",
              "    <tr style=\"text-align: right;\">\n",
              "      <th></th>\n",
              "      <th>index</th>\n",
              "      <th>titulo</th>\n",
              "      <th>categoria</th>\n",
              "    </tr>\n",
              "  </thead>\n",
              "  <tbody>\n",
              "    <tr>\n",
              "      <th>0</th>\n",
              "      <td>610</td>\n",
              "      <td>\"De nada sirven los triunfos si la paz no los ...</td>\n",
              "      <td>Película y Animación</td>\n",
              "    </tr>\n",
              "    <tr>\n",
              "      <th>1</th>\n",
              "      <td>819</td>\n",
              "      <td>\"Hay mejores formas para uno mostrar su forma ...</td>\n",
              "      <td>Película y Animación</td>\n",
              "    </tr>\n",
              "    <tr>\n",
              "      <th>2</th>\n",
              "      <td>637</td>\n",
              "      <td>#LosNacionalesXSeñal - Bahía Cupica</td>\n",
              "      <td>Deportes</td>\n",
              "    </tr>\n",
              "    <tr>\n",
              "      <th>3</th>\n",
              "      <td>740</td>\n",
              "      <td>#LosNacionalesXSeñal - Estudiantes Utech balon...</td>\n",
              "      <td>Deportes</td>\n",
              "    </tr>\n",
              "    <tr>\n",
              "      <th>4</th>\n",
              "      <td>160</td>\n",
              "      <td>#LosNacionalesXSeñal - Las pruebas de triatlón...</td>\n",
              "      <td>Deportes</td>\n",
              "    </tr>\n",
              "    <tr>\n",
              "      <th>...</th>\n",
              "      <td>...</td>\n",
              "      <td>...</td>\n",
              "      <td>...</td>\n",
              "    </tr>\n",
              "    <tr>\n",
              "      <th>795</th>\n",
              "      <td>778</td>\n",
              "      <td>¿Qué harías tú? - Esto se puso salsa</td>\n",
              "      <td>Entretenimiento</td>\n",
              "    </tr>\n",
              "    <tr>\n",
              "      <th>796</th>\n",
              "      <td>93</td>\n",
              "      <td>¿Qué opinas sobre el machismo?</td>\n",
              "      <td>Película y Animación</td>\n",
              "    </tr>\n",
              "    <tr>\n",
              "      <th>797</th>\n",
              "      <td>906</td>\n",
              "      <td>¿Te cortarón los servicios?.. Tranquilo ya est...</td>\n",
              "      <td>Película y Animación</td>\n",
              "    </tr>\n",
              "    <tr>\n",
              "      <th>798</th>\n",
              "      <td>440</td>\n",
              "      <td>Óscar Figueroa, con dos medallas en el Mundial...</td>\n",
              "      <td>Deportes</td>\n",
              "    </tr>\n",
              "    <tr>\n",
              "      <th>799</th>\n",
              "      <td>419</td>\n",
              "      <td>Último día de competencias del Ciclismo de Pis...</td>\n",
              "      <td>Deportes</td>\n",
              "    </tr>\n",
              "  </tbody>\n",
              "</table>\n",
              "<p>800 rows × 3 columns</p>\n",
              "</div>\n",
              "    <div class=\"colab-df-buttons\">\n",
              "\n",
              "  <div class=\"colab-df-container\">\n",
              "    <button class=\"colab-df-convert\" onclick=\"convertToInteractive('df-75d83a1a-85bf-4934-9e2a-a648354d6fdc')\"\n",
              "            title=\"Convert this dataframe to an interactive table.\"\n",
              "            style=\"display:none;\">\n",
              "\n",
              "  <svg xmlns=\"http://www.w3.org/2000/svg\" height=\"24px\" viewBox=\"0 -960 960 960\">\n",
              "    <path d=\"M120-120v-720h720v720H120Zm60-500h600v-160H180v160Zm220 220h160v-160H400v160Zm0 220h160v-160H400v160ZM180-400h160v-160H180v160Zm440 0h160v-160H620v160ZM180-180h160v-160H180v160Zm440 0h160v-160H620v160Z\"/>\n",
              "  </svg>\n",
              "    </button>\n",
              "\n",
              "  <style>\n",
              "    .colab-df-container {\n",
              "      display:flex;\n",
              "      gap: 12px;\n",
              "    }\n",
              "\n",
              "    .colab-df-convert {\n",
              "      background-color: #E8F0FE;\n",
              "      border: none;\n",
              "      border-radius: 50%;\n",
              "      cursor: pointer;\n",
              "      display: none;\n",
              "      fill: #1967D2;\n",
              "      height: 32px;\n",
              "      padding: 0 0 0 0;\n",
              "      width: 32px;\n",
              "    }\n",
              "\n",
              "    .colab-df-convert:hover {\n",
              "      background-color: #E2EBFA;\n",
              "      box-shadow: 0px 1px 2px rgba(60, 64, 67, 0.3), 0px 1px 3px 1px rgba(60, 64, 67, 0.15);\n",
              "      fill: #174EA6;\n",
              "    }\n",
              "\n",
              "    .colab-df-buttons div {\n",
              "      margin-bottom: 4px;\n",
              "    }\n",
              "\n",
              "    [theme=dark] .colab-df-convert {\n",
              "      background-color: #3B4455;\n",
              "      fill: #D2E3FC;\n",
              "    }\n",
              "\n",
              "    [theme=dark] .colab-df-convert:hover {\n",
              "      background-color: #434B5C;\n",
              "      box-shadow: 0px 1px 3px 1px rgba(0, 0, 0, 0.15);\n",
              "      filter: drop-shadow(0px 1px 2px rgba(0, 0, 0, 0.3));\n",
              "      fill: #FFFFFF;\n",
              "    }\n",
              "  </style>\n",
              "\n",
              "    <script>\n",
              "      const buttonEl =\n",
              "        document.querySelector('#df-75d83a1a-85bf-4934-9e2a-a648354d6fdc button.colab-df-convert');\n",
              "      buttonEl.style.display =\n",
              "        google.colab.kernel.accessAllowed ? 'block' : 'none';\n",
              "\n",
              "      async function convertToInteractive(key) {\n",
              "        const element = document.querySelector('#df-75d83a1a-85bf-4934-9e2a-a648354d6fdc');\n",
              "        const dataTable =\n",
              "          await google.colab.kernel.invokeFunction('convertToInteractive',\n",
              "                                                    [key], {});\n",
              "        if (!dataTable) return;\n",
              "\n",
              "        const docLinkHtml = 'Like what you see? Visit the ' +\n",
              "          '<a target=\"_blank\" href=https://colab.research.google.com/notebooks/data_table.ipynb>data table notebook</a>'\n",
              "          + ' to learn more about interactive tables.';\n",
              "        element.innerHTML = '';\n",
              "        dataTable['output_type'] = 'display_data';\n",
              "        await google.colab.output.renderOutput(dataTable, element);\n",
              "        const docLink = document.createElement('div');\n",
              "        docLink.innerHTML = docLinkHtml;\n",
              "        element.appendChild(docLink);\n",
              "      }\n",
              "    </script>\n",
              "  </div>\n",
              "\n",
              "\n",
              "<div id=\"df-6bec2bab-e250-4c0f-9a22-a292aa16fa79\">\n",
              "  <button class=\"colab-df-quickchart\" onclick=\"quickchart('df-6bec2bab-e250-4c0f-9a22-a292aa16fa79')\"\n",
              "            title=\"Suggest charts\"\n",
              "            style=\"display:none;\">\n",
              "\n",
              "<svg xmlns=\"http://www.w3.org/2000/svg\" height=\"24px\"viewBox=\"0 0 24 24\"\n",
              "     width=\"24px\">\n",
              "    <g>\n",
              "        <path d=\"M19 3H5c-1.1 0-2 .9-2 2v14c0 1.1.9 2 2 2h14c1.1 0 2-.9 2-2V5c0-1.1-.9-2-2-2zM9 17H7v-7h2v7zm4 0h-2V7h2v10zm4 0h-2v-4h2v4z\"/>\n",
              "    </g>\n",
              "</svg>\n",
              "  </button>\n",
              "\n",
              "<style>\n",
              "  .colab-df-quickchart {\n",
              "      --bg-color: #E8F0FE;\n",
              "      --fill-color: #1967D2;\n",
              "      --hover-bg-color: #E2EBFA;\n",
              "      --hover-fill-color: #174EA6;\n",
              "      --disabled-fill-color: #AAA;\n",
              "      --disabled-bg-color: #DDD;\n",
              "  }\n",
              "\n",
              "  [theme=dark] .colab-df-quickchart {\n",
              "      --bg-color: #3B4455;\n",
              "      --fill-color: #D2E3FC;\n",
              "      --hover-bg-color: #434B5C;\n",
              "      --hover-fill-color: #FFFFFF;\n",
              "      --disabled-bg-color: #3B4455;\n",
              "      --disabled-fill-color: #666;\n",
              "  }\n",
              "\n",
              "  .colab-df-quickchart {\n",
              "    background-color: var(--bg-color);\n",
              "    border: none;\n",
              "    border-radius: 50%;\n",
              "    cursor: pointer;\n",
              "    display: none;\n",
              "    fill: var(--fill-color);\n",
              "    height: 32px;\n",
              "    padding: 0;\n",
              "    width: 32px;\n",
              "  }\n",
              "\n",
              "  .colab-df-quickchart:hover {\n",
              "    background-color: var(--hover-bg-color);\n",
              "    box-shadow: 0 1px 2px rgba(60, 64, 67, 0.3), 0 1px 3px 1px rgba(60, 64, 67, 0.15);\n",
              "    fill: var(--button-hover-fill-color);\n",
              "  }\n",
              "\n",
              "  .colab-df-quickchart-complete:disabled,\n",
              "  .colab-df-quickchart-complete:disabled:hover {\n",
              "    background-color: var(--disabled-bg-color);\n",
              "    fill: var(--disabled-fill-color);\n",
              "    box-shadow: none;\n",
              "  }\n",
              "\n",
              "  .colab-df-spinner {\n",
              "    border: 2px solid var(--fill-color);\n",
              "    border-color: transparent;\n",
              "    border-bottom-color: var(--fill-color);\n",
              "    animation:\n",
              "      spin 1s steps(1) infinite;\n",
              "  }\n",
              "\n",
              "  @keyframes spin {\n",
              "    0% {\n",
              "      border-color: transparent;\n",
              "      border-bottom-color: var(--fill-color);\n",
              "      border-left-color: var(--fill-color);\n",
              "    }\n",
              "    20% {\n",
              "      border-color: transparent;\n",
              "      border-left-color: var(--fill-color);\n",
              "      border-top-color: var(--fill-color);\n",
              "    }\n",
              "    30% {\n",
              "      border-color: transparent;\n",
              "      border-left-color: var(--fill-color);\n",
              "      border-top-color: var(--fill-color);\n",
              "      border-right-color: var(--fill-color);\n",
              "    }\n",
              "    40% {\n",
              "      border-color: transparent;\n",
              "      border-right-color: var(--fill-color);\n",
              "      border-top-color: var(--fill-color);\n",
              "    }\n",
              "    60% {\n",
              "      border-color: transparent;\n",
              "      border-right-color: var(--fill-color);\n",
              "    }\n",
              "    80% {\n",
              "      border-color: transparent;\n",
              "      border-right-color: var(--fill-color);\n",
              "      border-bottom-color: var(--fill-color);\n",
              "    }\n",
              "    90% {\n",
              "      border-color: transparent;\n",
              "      border-bottom-color: var(--fill-color);\n",
              "    }\n",
              "  }\n",
              "</style>\n",
              "\n",
              "  <script>\n",
              "    async function quickchart(key) {\n",
              "      const quickchartButtonEl =\n",
              "        document.querySelector('#' + key + ' button');\n",
              "      quickchartButtonEl.disabled = true;  // To prevent multiple clicks.\n",
              "      quickchartButtonEl.classList.add('colab-df-spinner');\n",
              "      try {\n",
              "        const charts = await google.colab.kernel.invokeFunction(\n",
              "            'suggestCharts', [key], {});\n",
              "      } catch (error) {\n",
              "        console.error('Error during call to suggestCharts:', error);\n",
              "      }\n",
              "      quickchartButtonEl.classList.remove('colab-df-spinner');\n",
              "      quickchartButtonEl.classList.add('colab-df-quickchart-complete');\n",
              "    }\n",
              "    (() => {\n",
              "      let quickchartButtonEl =\n",
              "        document.querySelector('#df-6bec2bab-e250-4c0f-9a22-a292aa16fa79 button');\n",
              "      quickchartButtonEl.style.display =\n",
              "        google.colab.kernel.accessAllowed ? 'block' : 'none';\n",
              "    })();\n",
              "  </script>\n",
              "</div>\n",
              "\n",
              "  <div id=\"id_b90636ac-73fd-4f8e-b6a8-73e09a2a4288\">\n",
              "    <style>\n",
              "      .colab-df-generate {\n",
              "        background-color: #E8F0FE;\n",
              "        border: none;\n",
              "        border-radius: 50%;\n",
              "        cursor: pointer;\n",
              "        display: none;\n",
              "        fill: #1967D2;\n",
              "        height: 32px;\n",
              "        padding: 0 0 0 0;\n",
              "        width: 32px;\n",
              "      }\n",
              "\n",
              "      .colab-df-generate:hover {\n",
              "        background-color: #E2EBFA;\n",
              "        box-shadow: 0px 1px 2px rgba(60, 64, 67, 0.3), 0px 1px 3px 1px rgba(60, 64, 67, 0.15);\n",
              "        fill: #174EA6;\n",
              "      }\n",
              "\n",
              "      [theme=dark] .colab-df-generate {\n",
              "        background-color: #3B4455;\n",
              "        fill: #D2E3FC;\n",
              "      }\n",
              "\n",
              "      [theme=dark] .colab-df-generate:hover {\n",
              "        background-color: #434B5C;\n",
              "        box-shadow: 0px 1px 3px 1px rgba(0, 0, 0, 0.15);\n",
              "        filter: drop-shadow(0px 1px 2px rgba(0, 0, 0, 0.3));\n",
              "        fill: #FFFFFF;\n",
              "      }\n",
              "    </style>\n",
              "    <button class=\"colab-df-generate\" onclick=\"generateWithVariable('df')\"\n",
              "            title=\"Generate code using this dataframe.\"\n",
              "            style=\"display:none;\">\n",
              "\n",
              "  <svg xmlns=\"http://www.w3.org/2000/svg\" height=\"24px\"viewBox=\"0 0 24 24\"\n",
              "       width=\"24px\">\n",
              "    <path d=\"M7,19H8.4L18.45,9,17,7.55,7,17.6ZM5,21V16.75L18.45,3.32a2,2,0,0,1,2.83,0l1.4,1.43a1.91,1.91,0,0,1,.58,1.4,1.91,1.91,0,0,1-.58,1.4L9.25,21ZM18.45,9,17,7.55Zm-12,3A5.31,5.31,0,0,0,4.9,8.1,5.31,5.31,0,0,0,1,6.5,5.31,5.31,0,0,0,4.9,4.9,5.31,5.31,0,0,0,6.5,1,5.31,5.31,0,0,0,8.1,4.9,5.31,5.31,0,0,0,12,6.5,5.46,5.46,0,0,0,6.5,12Z\"/>\n",
              "  </svg>\n",
              "    </button>\n",
              "    <script>\n",
              "      (() => {\n",
              "      const buttonEl =\n",
              "        document.querySelector('#id_b90636ac-73fd-4f8e-b6a8-73e09a2a4288 button.colab-df-generate');\n",
              "      buttonEl.style.display =\n",
              "        google.colab.kernel.accessAllowed ? 'block' : 'none';\n",
              "\n",
              "      buttonEl.onclick = () => {\n",
              "        google.colab.notebook.generateWithVariable('df');\n",
              "      }\n",
              "      })();\n",
              "    </script>\n",
              "  </div>\n",
              "\n",
              "    </div>\n",
              "  </div>\n"
            ],
            "application/vnd.google.colaboratory.intrinsic+json": {
              "type": "dataframe",
              "variable_name": "df",
              "summary": "{\n  \"name\": \"df\",\n  \"rows\": 800,\n  \"fields\": [\n    {\n      \"column\": \"index\",\n      \"properties\": {\n        \"dtype\": \"number\",\n        \"std\": 289,\n        \"min\": 0,\n        \"max\": 998,\n        \"num_unique_values\": 800,\n        \"samples\": [\n          297,\n          18,\n          794\n        ],\n        \"semantic_type\": \"\",\n        \"description\": \"\"\n      }\n    },\n    {\n      \"column\": \"titulo\",\n      \"properties\": {\n        \"dtype\": \"string\",\n        \"num_unique_values\": 794,\n        \"samples\": [\n          \"Todo lo que vemos - 461 - Vox populi\",\n          \"sill\\u00f3n justicia m\\u00fasica e identidad\",\n          \"Antonia - Reguet\\u00f3n\"\n        ],\n        \"semantic_type\": \"\",\n        \"description\": \"\"\n      }\n    },\n    {\n      \"column\": \"categoria\",\n      \"properties\": {\n        \"dtype\": \"category\",\n        \"num_unique_values\": 6,\n        \"samples\": [\n          \"Pel\\u00edcula y Animaci\\u00f3n\",\n          \"Deportes\",\n          \"Educaci\\u00f3n\"\n        ],\n        \"semantic_type\": \"\",\n        \"description\": \"\"\n      }\n    }\n  ]\n}"
            }
          },
          "metadata": {},
          "execution_count": 17
        }
      ]
    },
    {
      "cell_type": "markdown",
      "source": [
        "**La variable objetivo es predecir la columna categoria (Se debe transformar en Entretenimiento, Deportes, Película y Animación, Educación y Otros) utilizando el texto del titulo.**"
      ],
      "metadata": {
        "id": "RrQgy-91vig0"
      }
    },
    {
      "cell_type": "markdown",
      "source": [
        "Se transforman los datos de la descripción\n"
      ],
      "metadata": {
        "id": "JrzMyhK2vocy"
      }
    },
    {
      "cell_type": "code",
      "source": [
        "i_categoria = set([i for i,v in\n",
        "    zip(df[\"categoria\"].value_counts().index, df[\"categoria\"].value_counts().values) if v > 30 ])\n",
        "df[\"categoria\"].apply(lambda x: x if x in i_categoria else 'Otros').value_counts() # Use \"categoria\" instead of \"categoría\"\n"
      ],
      "metadata": {
        "id": "vUWWImKjvjNB",
        "outputId": "4576a24a-153a-4fe3-daed-d38c8fb51acf",
        "colab": {
          "base_uri": "https://localhost:8080/",
          "height": 0
        }
      },
      "execution_count": 18,
      "outputs": [
        {
          "output_type": "execute_result",
          "data": {
            "text/plain": [
              "categoria\n",
              "Entretenimiento         223\n",
              "Deportes                189\n",
              "Película y Animación    173\n",
              "Educación               113\n",
              "Gente y Blogs            54\n",
              "Otros                    48\n",
              "Name: count, dtype: int64"
            ]
          },
          "metadata": {},
          "execution_count": 18
        }
      ]
    },
    {
      "cell_type": "code",
      "source": [
        "df = df.rename(columns={'categoría': 'categoria'})"
      ],
      "metadata": {
        "id": "1loMiogvwfZU"
      },
      "execution_count": 19,
      "outputs": []
    },
    {
      "cell_type": "markdown",
      "source": [
        "**i. Utilizar todos los datos, y explorar el numero total de palabras únicas en todos los títulos de train y el numero total de repeticiones (Crear un diccionario para saber si la palabra ya fue observada antes e intentar remover tildes y poner el texto en minúsculas)**\n",
        "Creamos un diccionario para almacenar la frecuencia de palabras"
      ],
      "metadata": {
        "id": "59dCF6jCwipV"
      }
    },
    {
      "cell_type": "code",
      "source": [
        "palabrasFrecuentes = {}\n",
        "palabras = {}\n",
        "palabrasUnicas = {}"
      ],
      "metadata": {
        "id": "3kF2S-R6wlXJ"
      },
      "execution_count": 20,
      "outputs": []
    },
    {
      "cell_type": "markdown",
      "source": [
        "Creamos una función para elimines algunas caracteres espacial como tildes, numeros entre otros.\n",
        "\n"
      ],
      "metadata": {
        "id": "r3Wu2ef-wqIr"
      }
    },
    {
      "cell_type": "code",
      "source": [
        "def cambioLetras(letra):\n",
        "    letra = re.sub('[áäâà]', 'a', letra.lower())\n",
        "    letra = re.sub('[éëêè]', 'e', letra)\n",
        "    letra = re.sub('[íïîì]', 'i', letra)\n",
        "    letra = re.sub('[óöôò]', 'o', letra)\n",
        "    letra = re.sub('[úüûù]', 'u', letra)\n",
        "    letra = re.sub('[^a-z]', ' ', letra)\n",
        "    letra = re.sub('\\s+', ' ', letra)\n",
        "    return letra.strip()"
      ],
      "metadata": {
        "id": "606dLIw2wofT"
      },
      "execution_count": 21,
      "outputs": []
    },
    {
      "cell_type": "markdown",
      "source": [
        "iteramos sobre cada título"
      ],
      "metadata": {
        "id": "pC69ONiFwvUk"
      }
    },
    {
      "cell_type": "code",
      "source": [
        "for titulo in df['titulo']:\n",
        "    # Se limpia el texto\n",
        "    cambiotitulo = cambioLetras(titulo)\n",
        "    # Se divide el título en palabras individuales\n",
        "    palabras = cambiotitulo.split()\n",
        "    # Se crea un conjunto (set) de palabras únicas\n",
        "    palabrasUnicas = set(palabras)\n",
        "\n",
        "    # Se convierte el conjunto nuevamente a una lista\n",
        "    palabrasUnicas = list(palabrasUnicas)\n",
        "\n",
        "    # Se cuenta la frecuencia de cada palabra\n",
        "    for palabra in palabras:\n",
        "        if palabra in palabrasFrecuentes:\n",
        "            palabrasFrecuentes[palabra] += 1\n",
        "        else:\n",
        "            palabrasFrecuentes[palabra] = 1"
      ],
      "metadata": {
        "id": "MGNd9nq0wtsU"
      },
      "execution_count": 22,
      "outputs": []
    },
    {
      "cell_type": "code",
      "source": [
        "numeroDePalabrasUnicas = len(palabrasFrecuentes)\n",
        "numeroRepeteciones = sum(palabrasFrecuentes.values())"
      ],
      "metadata": {
        "id": "zAXD1NQBwym8"
      },
      "execution_count": 23,
      "outputs": []
    },
    {
      "cell_type": "markdown",
      "source": [
        "Resultados"
      ],
      "metadata": {
        "id": "-1DG4661w19z"
      }
    },
    {
      "cell_type": "code",
      "source": [
        "print(\"Número total de palabras únicas:\", numeroDePalabrasUnicas)\n",
        "print(\"Número total de repeticiones:\", numeroRepeteciones)"
      ],
      "metadata": {
        "id": "RVVjGu0Aw21B",
        "outputId": "4b6ebad8-6af8-4ba7-a05b-13372c10abc1",
        "colab": {
          "base_uri": "https://localhost:8080/",
          "height": 0
        }
      },
      "execution_count": 24,
      "outputs": [
        {
          "output_type": "stream",
          "name": "stdout",
          "text": [
            "Número total de palabras únicas: 1604\n",
            "Número total de repeticiones: 5679\n"
          ]
        }
      ]
    },
    {
      "cell_type": "markdown",
      "source": [
        "Número total de palabras únicas: 5627\n",
        "Número total de repeticiones: 45718"
      ],
      "metadata": {
        "id": "OJoyburxw7Rs"
      }
    },
    {
      "cell_type": "markdown",
      "source": [
        "¿Cuántas palabras hay en el data set?"
      ],
      "metadata": {
        "id": "pkc7_-8jw__e"
      }
    },
    {
      "cell_type": "code",
      "source": [
        "print(\"Número total de palabras en el dataset:\", numeroRepeteciones)"
      ],
      "metadata": {
        "id": "dr3lyvLBw5Tw",
        "outputId": "49138a0c-bbfd-41c5-9dd0-602daaccf2c8",
        "colab": {
          "base_uri": "https://localhost:8080/",
          "height": 0
        }
      },
      "execution_count": 25,
      "outputs": [
        {
          "output_type": "stream",
          "name": "stdout",
          "text": [
            "Número total de palabras en el dataset: 5679\n"
          ]
        }
      ]
    },
    {
      "cell_type": "markdown",
      "source": [
        "Número total de palabras en el dataset: 5679"
      ],
      "metadata": {
        "id": "niUysDnfxFqg"
      }
    },
    {
      "cell_type": "markdown",
      "source": [
        "# **Generar la Matriz**\n",
        "Creamos un dataframe vacío con las palabras únicas como columnas"
      ],
      "metadata": {
        "id": "nvvuDGp6xLaE"
      }
    },
    {
      "cell_type": "code",
      "source": [
        "matriz = pd.DataFrame(columns=palabrasUnicas)"
      ],
      "metadata": {
        "id": "ST8wC9q7xPIW"
      },
      "execution_count": 26,
      "outputs": []
    },
    {
      "cell_type": "markdown",
      "source": [
        "Se itera sobre cada título en el dataframe"
      ],
      "metadata": {
        "id": "TsTPXue8xR3m"
      }
    },
    {
      "cell_type": "code",
      "source": [
        "for index, titulo in enumerate(df['titulo']):\n",
        "    # Se limpia el texto\n",
        "    cambiotitulo = cambioLetras(titulo)\n",
        "    # Se divide el título en palabras individuales\n",
        "    palabras = cambiotitulo.split()\n",
        "    # Se cuenta la frecuencia de cada palabra en el título\n",
        "    contarPalabras = {palabra: palabras.count(palabra) for palabra in palabrasUnicas}\n",
        "    # Se convierten los resultados en un dataframe temporal\n",
        "    tempDf = pd.DataFrame(contarPalabras, index=[index])\n",
        "    # Se concatena el dataframe temporal con la matriz\n",
        "    matriz = pd.concat([matriz, tempDf])"
      ],
      "metadata": {
        "id": "tWTWbiBOxSag"
      },
      "execution_count": 27,
      "outputs": []
    },
    {
      "cell_type": "markdown",
      "source": [
        "Asignamos los títulos"
      ],
      "metadata": {
        "id": "Badz8kigxWAa"
      }
    },
    {
      "cell_type": "code",
      "source": [
        "matriz.index = df['titulo']"
      ],
      "metadata": {
        "id": "zH-OBG0uxWle"
      },
      "execution_count": 28,
      "outputs": []
    },
    {
      "cell_type": "markdown",
      "source": [
        "Se muestra la matriz"
      ],
      "metadata": {
        "id": "6J0vo5aAxZqF"
      }
    },
    {
      "cell_type": "code",
      "source": [
        "print(matriz)"
      ],
      "metadata": {
        "id": "CAKDq98pxaSp",
        "outputId": "89a945dd-faf2-40c5-f273-890fda54f911",
        "colab": {
          "base_uri": "https://localhost:8080/",
          "height": 0
        }
      },
      "execution_count": 29,
      "outputs": [
        {
          "output_type": "stream",
          "name": "stdout",
          "text": [
            "                                                   dia del en de ultimo  \\\n",
            "titulo                                                                    \n",
            "\"De nada sirven los triunfos si la paz no los c...   0   0  0  1      0   \n",
            "\"Hay mejores formas para uno mostrar su forma d...   0   0  0  1      0   \n",
            "#LosNacionalesXSeñal - Bahía Cupica                  0   0  0  0      0   \n",
            "#LosNacionalesXSeñal - Estudiantes Utech balonmano   0   0  0  0      0   \n",
            "#LosNacionalesXSeñal - Las pruebas de triatlón ...   0   0  0  3      0   \n",
            "...                                                 ..  .. .. ..    ...   \n",
            "¿Qué harías tú? - Esto se puso salsa                 0   0  0  0      0   \n",
            "¿Qué opinas sobre el machismo?                       0   0  0  0      0   \n",
            "¿Te cortarón los servicios?.. Tranquilo ya esta...   0   0  0  1      0   \n",
            "Óscar Figueroa, con dos medallas en el Mundial ...   0   0  1  2      0   \n",
            "Último día de competencias del Ciclismo de Pist...   1   1  1  2      1   \n",
            "\n",
            "                                                   juegos pista ciclismo  \\\n",
            "titulo                                                                     \n",
            "\"De nada sirven los triunfos si la paz no los c...      0     0        0   \n",
            "\"Hay mejores formas para uno mostrar su forma d...      0     0        0   \n",
            "#LosNacionalesXSeñal - Bahía Cupica                     0     0        0   \n",
            "#LosNacionalesXSeñal - Estudiantes Utech balonmano      0     0        0   \n",
            "#LosNacionalesXSeñal - Las pruebas de triatlón ...      0     0        0   \n",
            "...                                                   ...   ...      ...   \n",
            "¿Qué harías tú? - Esto se puso salsa                    0     0        0   \n",
            "¿Qué opinas sobre el machismo?                          0     0        0   \n",
            "¿Te cortarón los servicios?.. Tranquilo ya esta...      0     0        0   \n",
            "Óscar Figueroa, con dos medallas en el Mundial ...      0     0        0   \n",
            "Último día de competencias del Ciclismo de Pist...      1     1        1   \n",
            "\n",
            "                                                   bolivarianos competencias  \n",
            "titulo                                                                        \n",
            "\"De nada sirven los triunfos si la paz no los c...            0            0  \n",
            "\"Hay mejores formas para uno mostrar su forma d...            0            0  \n",
            "#LosNacionalesXSeñal - Bahía Cupica                           0            0  \n",
            "#LosNacionalesXSeñal - Estudiantes Utech balonmano            0            0  \n",
            "#LosNacionalesXSeñal - Las pruebas de triatlón ...            0            0  \n",
            "...                                                         ...          ...  \n",
            "¿Qué harías tú? - Esto se puso salsa                          0            0  \n",
            "¿Qué opinas sobre el machismo?                                0            0  \n",
            "¿Te cortarón los servicios?.. Tranquilo ya esta...            0            0  \n",
            "Óscar Figueroa, con dos medallas en el Mundial ...            0            0  \n",
            "Último día de competencias del Ciclismo de Pist...            1            1  \n",
            "\n",
            "[800 rows x 10 columns]\n"
          ]
        }
      ]
    },
    {
      "cell_type": "markdown",
      "source": [
        "# **ii. Crear un gráfico de barras con las 10 palabras más comunes.**\n",
        "\n",
        "Obtenemos las 10 palabras más comunes y sus frecuencias"
      ],
      "metadata": {
        "id": "iL5zXEdIxeOa"
      }
    },
    {
      "cell_type": "code",
      "source": [
        "palabrasComunes = sorted(palabrasFrecuentes.items(), key=lambda x: x[1], reverse=True)[:10]\n",
        "principalesPalabras = [palabra[0] for palabra in palabrasComunes]\n",
        "numeroPalbras = [palabra[1] for palabra in palabrasComunes]"
      ],
      "metadata": {
        "id": "CPW6zlCUxifC"
      },
      "execution_count": 30,
      "outputs": []
    },
    {
      "cell_type": "code",
      "source": [],
      "metadata": {
        "id": "aeog4Ty9xfZQ"
      },
      "execution_count": 30,
      "outputs": []
    },
    {
      "cell_type": "markdown",
      "source": [
        "Se crea el grafico de barras"
      ],
      "metadata": {
        "id": "Q5meRySbxnYz"
      }
    },
    {
      "cell_type": "code",
      "source": [
        "plt.figure(figsize=(10, 6))\n",
        "plt.bar(principalesPalabras, numeroPalbras)\n",
        "plt.xlabel('Palabras')\n",
        "plt.ylabel('Frecuencia de la palabra')\n",
        "plt.title('Las 10 palabras más comunes')\n",
        "plt.xticks(rotation=45)\n",
        "plt.show()"
      ],
      "metadata": {
        "id": "2xTAjWWtxoel",
        "outputId": "fdaefa34-1337-4aa0-d5aa-1afc3f23a7c5",
        "colab": {
          "base_uri": "https://localhost:8080/",
          "height": 593
        }
      },
      "execution_count": 31,
      "outputs": [
        {
          "output_type": "display_data",
          "data": {
            "text/plain": [
              "<Figure size 1000x600 with 1 Axes>"
            ],
            "image/png": "[encoded data removed]"
          },
          "metadata": {}
        }
      ]
    },
    {
      "cell_type": "markdown",
      "source": [
        "**¿Son utiles?**\n",
        "Cuando se analizan las palabras más comunes en los títulos, a menudo se utilizan gráficos de barras para mostrar las frecuencias de las palabras de manera visual y rápida. Sin embargo, hay situaciones en las que un gráfico de barras puede no ser la opción más adecuada, especialmente cuando hay muchas palabras únicas y las frecuencias varían considerablemente.\n",
        "\n",
        "Normalmente las palabras más comunes son llamadas stop words. Y corresponden a los artículos o preposiciones. Generar nuevamente los gráficos. Y una matriz de correlación utilizando dummy variables para las variables objetivo “categoria”.\n",
        "Creamos los dummy para la variable objetivo \"Categoria\""
      ],
      "metadata": {
        "id": "KGrbdcKlxvv7"
      }
    },
    {
      "cell_type": "code",
      "source": [
        "dummy_categoria = pd.get_dummies(df['categoria'])"
      ],
      "metadata": {
        "id": "to92RVCpxzZ3"
      },
      "execution_count": 32,
      "outputs": []
    },
    {
      "cell_type": "markdown",
      "source": [
        "Se botienen las 10 palabras más comunes y sus frecuencias"
      ],
      "metadata": {
        "id": "Sm8eC1yCx5pQ"
      }
    },
    {
      "cell_type": "code",
      "source": [
        "palabrasComunes = sorted(palabrasFrecuentes.items(), key=lambda x: x[1], reverse=True)[:10]\n",
        "principalesPalabras = [palabra[0] for palabra in palabrasComunes]\n",
        "numeroPalbras = [palabra[1] for palabra in palabrasComunes]"
      ],
      "metadata": {
        "id": "Ol5H62ILx4ox"
      },
      "execution_count": 33,
      "outputs": []
    },
    {
      "cell_type": "markdown",
      "source": [
        "Se crea el grafico de barras"
      ],
      "metadata": {
        "id": "nyKwgiT8x9Ze"
      }
    },
    {
      "cell_type": "code",
      "source": [
        "plt.figure(figsize=(10, 6))\n",
        "plt.bar(principalesPalabras, numeroPalbras)\n",
        "plt.xlabel('Palabras')\n",
        "plt.ylabel('Frecuencia de la palabra')\n",
        "plt.title('Las 10 palabras más comunes')\n",
        "plt.xticks(rotation=45)\n",
        "plt.show()"
      ],
      "metadata": {
        "id": "G3gFDS5dx98S",
        "outputId": "0a391c65-6dba-4c87-cb47-904c33c2f996",
        "colab": {
          "base_uri": "https://localhost:8080/",
          "height": 593
        }
      },
      "execution_count": 34,
      "outputs": [
        {
          "output_type": "display_data",
          "data": {
            "text/plain": [
              "<Figure size 1000x600 with 1 Axes>"
            ],
            "image/png": "[encoded data removed]"
          },
          "metadata": {}
        }
      ]
    },
    {
      "cell_type": "markdown",
      "source": [
        "Creamos la matriz de correlación con los dummy variables"
      ],
      "metadata": {
        "id": "-XOoW8iDyCjf"
      }
    },
    {
      "cell_type": "code",
      "source": [
        "correlacion_matriz = dummy_categoria.corr()\n",
        "\n",
        "plt.figure(figsize=(10, 8))\n",
        "sns.heatmap(correlacion_matriz, annot=True, cmap='coolwarm')\n",
        "plt.title('Matriz de correlación')"
      ],
      "metadata": {
        "id": "JLwipf-HyDPm",
        "outputId": "f67f6813-1c15-40bf-c48e-1193c8276102",
        "colab": {
          "base_uri": "https://localhost:8080/",
          "height": 845
        }
      },
      "execution_count": 35,
      "outputs": [
        {
          "output_type": "execute_result",
          "data": {
            "text/plain": [
              "Text(0.5, 1.0, 'Matriz de correlación')"
            ]
          },
          "metadata": {},
          "execution_count": 35
        },
        {
          "output_type": "display_data",
          "data": {
            "text/plain": [
              "<Figure size 1000x800 with 2 Axes>"
            ],
            "image/png": "[encoded data removed]"
          },
          "metadata": {}
        }
      ]
    },
    {
      "cell_type": "markdown",
      "source": [
        "También generar la matriz nueva eliminando los stopwords y dividimos por el numero total de palabras en cada título. Esta matriz se llama TF (Term Frequency"
      ],
      "metadata": {
        "id": "0VGzO8RtyH8p"
      }
    },
    {
      "cell_type": "code",
      "source": [
        "nltk.download('stopwords')"
      ],
      "metadata": {
        "id": "YgXsyTe9yJXP",
        "outputId": "029d4bca-d47a-4b6c-f219-e0fbad470d54",
        "colab": {
          "base_uri": "https://localhost:8080/",
          "height": 0
        }
      },
      "execution_count": 36,
      "outputs": [
        {
          "output_type": "stream",
          "name": "stderr",
          "text": [
            "[nltk_data] Downloading package stopwords to /root/nltk_data...\n",
            "[nltk_data]   Unzipping corpora/stopwords.zip.\n"
          ]
        },
        {
          "output_type": "execute_result",
          "data": {
            "text/plain": [
              "True"
            ]
          },
          "metadata": {},
          "execution_count": 36
        }
      ]
    },
    {
      "cell_type": "markdown",
      "source": [
        "Obtenemos los stopwords en español"
      ],
      "metadata": {
        "id": "J9odnTjEyPFI"
      }
    },
    {
      "cell_type": "code",
      "source": [
        "stopwords = stopwords.words('spanish')"
      ],
      "metadata": {
        "id": "Id1gKBC3yPoq"
      },
      "execution_count": 37,
      "outputs": []
    },
    {
      "cell_type": "markdown",
      "source": [
        "Eliminamos los stopwords de las palabras únicas"
      ],
      "metadata": {
        "id": "3RRu7OKvyTld"
      }
    },
    {
      "cell_type": "code",
      "source": [
        "palabrasUnicas = [palabra for palabra in palabrasUnicas if palabra not in stopwords]"
      ],
      "metadata": {
        "id": "HnG9MMG_yRaM"
      },
      "execution_count": 38,
      "outputs": []
    },
    {
      "cell_type": "markdown",
      "source": [
        "Creamos un dataframe vacío con las palabras únicas en columnas"
      ],
      "metadata": {
        "id": "LVKD1rh9yXg7"
      }
    },
    {
      "cell_type": "code",
      "source": [
        "matriz = pd.DataFrame(columns=palabrasUnicas)"
      ],
      "metadata": {
        "id": "GIHt4cq5yYPH"
      },
      "execution_count": 39,
      "outputs": []
    },
    {
      "cell_type": "markdown",
      "source": [
        "Iteramos en cada título"
      ],
      "metadata": {
        "id": "mPhPYAzWybwA"
      }
    },
    {
      "cell_type": "code",
      "source": [
        "for index, titulo in enumerate(df['titulo']):\n",
        "    # Se limpia el texto\n",
        "    cambiotitulo = cambioLetras(titulo)\n",
        "    # Se divide el título en palabras individuales\n",
        "    palabras = cambiotitulo.split()\n",
        "    # Se eliminan los stopwords de las palabras\n",
        "    palabras = [palabra for palabra in palabras if palabra not in stopwords]\n",
        "\n",
        "    if len(palabras) > 0:\n",
        "        totalPalabras = len(palabras)\n",
        "        # Se calcula la frecuencia de cada palabra en el título y dividir por el número total de palabras\n",
        "        contarPalabras = {palabra: palabras.count(palabra) / totalPalabras for palabra in palabrasUnicas}\n",
        "        # Se convierten los resultados en un dataframe temporal\n",
        "        tempDf = pd.DataFrame(contarPalabras, index=[index])\n",
        "        # Se concatena el dataframe temporal con la matriz\n",
        "        matriz = pd.concat([matriz, tempDf])"
      ],
      "metadata": {
        "id": "szCvizg3ycWq"
      },
      "execution_count": 40,
      "outputs": []
    },
    {
      "cell_type": "code",
      "source": [
        "df = df.drop_duplicates(subset='titulo')  # Eliminar duplicados en el DataFrame df\n",
        "df.reset_index(drop=True, inplace=True)  # Restablecer los índices del DataFrame df\n",
        "\n",
        "# Volver a generar el DataFrame matrix con los datos actualizados de df\n",
        "matriz = pd.DataFrame(columns=palabrasUnicas)\n",
        "for index, titulo in enumerate(df['titulo']):\n",
        "    cambiotitulo = cambioLetras(titulo)\n",
        "    palabras = cambiotitulo.split()\n",
        "    contarPalabras = {palabra: palabras.count(palabra) / len(palabras) if len(palabras) != 0 else 0 for palabra in palabrasUnicas}\n",
        "    tempDf = pd.DataFrame(contarPalabras, index=[index])\n",
        "    matriz = pd.concat([matriz, tempDf])"
      ],
      "metadata": {
        "id": "hmaN9En-yfgj"
      },
      "execution_count": 41,
      "outputs": []
    },
    {
      "cell_type": "code",
      "source": [
        "matriz.index = df['titulo']"
      ],
      "metadata": {
        "id": "xOv92HFoyhhj"
      },
      "execution_count": 42,
      "outputs": []
    },
    {
      "cell_type": "code",
      "source": [
        "\n",
        "print(matriz)"
      ],
      "metadata": {
        "id": "jVDc_H6YyhoC",
        "outputId": "d0d4427a-94d1-4ac7-ea5b-9181b015d611",
        "colab": {
          "base_uri": "https://localhost:8080/",
          "height": 0
        }
      },
      "execution_count": 43,
      "outputs": [
        {
          "output_type": "stream",
          "name": "stdout",
          "text": [
            "                                                         dia    ultimo  \\\n",
            "titulo                                                                   \n",
            "\"De nada sirven los triunfos si la paz no los c...  0.000000  0.000000   \n",
            "\"Hay mejores formas para uno mostrar su forma d...  0.000000  0.000000   \n",
            "#LosNacionalesXSeñal - Bahía Cupica                 0.000000  0.000000   \n",
            "#LosNacionalesXSeñal - Estudiantes Utech balonmano  0.000000  0.000000   \n",
            "#LosNacionalesXSeñal - Las pruebas de triatlón ...  0.000000  0.000000   \n",
            "...                                                      ...       ...   \n",
            "¿Qué harías tú? - Esto se puso salsa                0.000000  0.000000   \n",
            "¿Qué opinas sobre el machismo?                      0.000000  0.000000   \n",
            "¿Te cortarón los servicios?.. Tranquilo ya esta...  0.000000  0.000000   \n",
            "Óscar Figueroa, con dos medallas en el Mundial ...  0.000000  0.000000   \n",
            "Último día de competencias del Ciclismo de Pist...  0.090909  0.090909   \n",
            "\n",
            "                                                      juegos     pista  \\\n",
            "titulo                                                                   \n",
            "\"De nada sirven los triunfos si la paz no los c...  0.000000  0.000000   \n",
            "\"Hay mejores formas para uno mostrar su forma d...  0.000000  0.000000   \n",
            "#LosNacionalesXSeñal - Bahía Cupica                 0.000000  0.000000   \n",
            "#LosNacionalesXSeñal - Estudiantes Utech balonmano  0.000000  0.000000   \n",
            "#LosNacionalesXSeñal - Las pruebas de triatlón ...  0.000000  0.000000   \n",
            "...                                                      ...       ...   \n",
            "¿Qué harías tú? - Esto se puso salsa                0.000000  0.000000   \n",
            "¿Qué opinas sobre el machismo?                      0.000000  0.000000   \n",
            "¿Te cortarón los servicios?.. Tranquilo ya esta...  0.000000  0.000000   \n",
            "Óscar Figueroa, con dos medallas en el Mundial ...  0.000000  0.000000   \n",
            "Último día de competencias del Ciclismo de Pist...  0.090909  0.090909   \n",
            "\n",
            "                                                    ciclismo  bolivarianos  \\\n",
            "titulo                                                                       \n",
            "\"De nada sirven los triunfos si la paz no los c...  0.000000      0.000000   \n",
            "\"Hay mejores formas para uno mostrar su forma d...  0.000000      0.000000   \n",
            "#LosNacionalesXSeñal - Bahía Cupica                 0.000000      0.000000   \n",
            "#LosNacionalesXSeñal - Estudiantes Utech balonmano  0.000000      0.000000   \n",
            "#LosNacionalesXSeñal - Las pruebas de triatlón ...  0.000000      0.000000   \n",
            "...                                                      ...           ...   \n",
            "¿Qué harías tú? - Esto se puso salsa                0.000000      0.000000   \n",
            "¿Qué opinas sobre el machismo?                      0.000000      0.000000   \n",
            "¿Te cortarón los servicios?.. Tranquilo ya esta...  0.000000      0.000000   \n",
            "Óscar Figueroa, con dos medallas en el Mundial ...  0.000000      0.000000   \n",
            "Último día de competencias del Ciclismo de Pist...  0.090909      0.090909   \n",
            "\n",
            "                                                    competencias  \n",
            "titulo                                                            \n",
            "\"De nada sirven los triunfos si la paz no los c...      0.000000  \n",
            "\"Hay mejores formas para uno mostrar su forma d...      0.000000  \n",
            "#LosNacionalesXSeñal - Bahía Cupica                     0.000000  \n",
            "#LosNacionalesXSeñal - Estudiantes Utech balonmano      0.000000  \n",
            "#LosNacionalesXSeñal - Las pruebas de triatlón ...      0.000000  \n",
            "...                                                          ...  \n",
            "¿Qué harías tú? - Esto se puso salsa                    0.000000  \n",
            "¿Qué opinas sobre el machismo?                          0.000000  \n",
            "¿Te cortarón los servicios?.. Tranquilo ya esta...      0.000000  \n",
            "Óscar Figueroa, con dos medallas en el Mundial ...      0.000000  \n",
            "Último día de competencias del Ciclismo de Pist...      0.090909  \n",
            "\n",
            "[794 rows x 7 columns]\n"
          ]
        }
      ]
    },
    {
      "cell_type": "markdown",
      "source": [],
      "metadata": {
        "id": "2h6t0s7fvltn"
      }
    },
    {
      "cell_type": "markdown",
      "source": [
        "# Nueva sección\n",
        "iii. Ahora vamos a crear un vector contando el numero de titulos que tiene cada palabra. Este vector tiene “n” elementos y el valor es el número de títulos que tiene la palabra.\n",
        "Creamos un vector para contar el número de títulos que contienen cada palabra"
      ],
      "metadata": {
        "id": "5gZYoOb9xjeW"
      }
    },
    {
      "cell_type": "code",
      "source": [
        "\n",
        "numeroTitulos = []"
      ],
      "metadata": {
        "id": "0YSc3JJexmDg"
      },
      "execution_count": 44,
      "outputs": []
    },
    {
      "cell_type": "code",
      "source": [
        "for palabra in palabrasUnicas:\n",
        "    # Contar el número de títulos que contienen la palabra\n",
        "    contar = sum(matriz[palabra] > 0)\n",
        "    numeroTitulos.append(contar)"
      ],
      "metadata": {
        "id": "XowcvfmCykFn"
      },
      "execution_count": 45,
      "outputs": []
    },
    {
      "cell_type": "markdown",
      "source": [
        "Vector del conteo"
      ],
      "metadata": {
        "id": "F66PyCMWymH3"
      }
    },
    {
      "cell_type": "code",
      "source": [
        "print(numeroTitulos)"
      ],
      "metadata": {
        "colab": {
          "base_uri": "https://localhost:8080/",
          "height": 0
        },
        "id": "wI7u_oB6ymyg",
        "outputId": "3be42cb0-3647-4ea4-fc9e-fbdc027fa522"
      },
      "execution_count": 46,
      "outputs": [
        {
          "output_type": "stream",
          "name": "stdout",
          "text": [
            "[5, 2, 14, 2, 3, 2, 1]\n"
          ]
        }
      ]
    },
    {
      "cell_type": "markdown",
      "source": [
        "# Por último vamos a transformar el numero calculando el log(Total de documentos/ (Numero de documentos con la Palabra i + 1) ). El +1 es para q no quede el numero indeterminado cuando algún valor es “0”, el vector es llamado IDF(Inverse Document Frequency)\n",
        "Creamos una matriz vacía con las palabras únicas como columnas"
      ],
      "metadata": {
        "id": "l7yHez4Lyxon"
      }
    },
    {
      "cell_type": "code",
      "source": [
        "\n",
        "idfMatriz = np.zeros((len(df), len(palabrasUnicas)))"
      ],
      "metadata": {
        "id": "3lOrXBYUy03c"
      },
      "execution_count": 47,
      "outputs": []
    },
    {
      "cell_type": "code",
      "source": [
        "for i, palabra in enumerate(palabrasUnicas):\n",
        "    # Calcular el IDF para la palabra\n",
        "    idf = np.log(len(df) / (numeroTitulos[i] + 1))\n",
        "    # Asignar el IDF a la columna correspondiente en la matriz\n",
        "    idfMatriz[:, i] = idf"
      ],
      "metadata": {
        "id": "dco7B1xny4gy"
      },
      "execution_count": 48,
      "outputs": []
    },
    {
      "cell_type": "markdown",
      "source": [
        "convertimos la matriz en un DataFrame de pandas con los títulos como índices\n",
        "\n"
      ],
      "metadata": {
        "id": "DsTYYFz0y9na"
      }
    },
    {
      "cell_type": "code",
      "source": [
        "idfDf = pd.DataFrame(idfMatriz, index=df['titulo'], columns=palabrasUnicas)\n"
      ],
      "metadata": {
        "id": "7XWXdk6Uy-FN"
      },
      "execution_count": 50,
      "outputs": []
    },
    {
      "cell_type": "code",
      "source": [
        "print(idfDf)"
      ],
      "metadata": {
        "colab": {
          "base_uri": "https://localhost:8080/",
          "height": 0
        },
        "collapsed": true,
        "id": "wx_kENiRzAK8",
        "outputId": "5f5492ae-e75d-4510-ca82-97fa54af7db4"
      },
      "execution_count": 51,
      "outputs": [
        {
          "output_type": "stream",
          "name": "stdout",
          "text": [
            "                                                         dia    ultimo  \\\n",
            "titulo                                                                   \n",
            "\"De nada sirven los triunfos si la paz no los c...  4.885324  5.578471   \n",
            "\"Hay mejores formas para uno mostrar su forma d...  4.885324  5.578471   \n",
            "#LosNacionalesXSeñal - Bahía Cupica                 4.885324  5.578471   \n",
            "#LosNacionalesXSeñal - Estudiantes Utech balonmano  4.885324  5.578471   \n",
            "#LosNacionalesXSeñal - Las pruebas de triatlón ...  4.885324  5.578471   \n",
            "...                                                      ...       ...   \n",
            "¿Qué harías tú? - Esto se puso salsa                4.885324  5.578471   \n",
            "¿Qué opinas sobre el machismo?                      4.885324  5.578471   \n",
            "¿Te cortarón los servicios?.. Tranquilo ya esta...  4.885324  5.578471   \n",
            "Óscar Figueroa, con dos medallas en el Mundial ...  4.885324  5.578471   \n",
            "Último día de competencias del Ciclismo de Pist...  4.885324  5.578471   \n",
            "\n",
            "                                                      juegos     pista  \\\n",
            "titulo                                                                   \n",
            "\"De nada sirven los triunfos si la paz no los c...  3.969033  5.578471   \n",
            "\"Hay mejores formas para uno mostrar su forma d...  3.969033  5.578471   \n",
            "#LosNacionalesXSeñal - Bahía Cupica                 3.969033  5.578471   \n",
            "#LosNacionalesXSeñal - Estudiantes Utech balonmano  3.969033  5.578471   \n",
            "#LosNacionalesXSeñal - Las pruebas de triatlón ...  3.969033  5.578471   \n",
            "...                                                      ...       ...   \n",
            "¿Qué harías tú? - Esto se puso salsa                3.969033  5.578471   \n",
            "¿Qué opinas sobre el machismo?                      3.969033  5.578471   \n",
            "¿Te cortarón los servicios?.. Tranquilo ya esta...  3.969033  5.578471   \n",
            "Óscar Figueroa, con dos medallas en el Mundial ...  3.969033  5.578471   \n",
            "Último día de competencias del Ciclismo de Pist...  3.969033  5.578471   \n",
            "\n",
            "                                                    ciclismo  bolivarianos  \\\n",
            "titulo                                                                       \n",
            "\"De nada sirven los triunfos si la paz no los c...  5.290789      5.578471   \n",
            "\"Hay mejores formas para uno mostrar su forma d...  5.290789      5.578471   \n",
            "#LosNacionalesXSeñal - Bahía Cupica                 5.290789      5.578471   \n",
            "#LosNacionalesXSeñal - Estudiantes Utech balonmano  5.290789      5.578471   \n",
            "#LosNacionalesXSeñal - Las pruebas de triatlón ...  5.290789      5.578471   \n",
            "...                                                      ...           ...   \n",
            "¿Qué harías tú? - Esto se puso salsa                5.290789      5.578471   \n",
            "¿Qué opinas sobre el machismo?                      5.290789      5.578471   \n",
            "¿Te cortarón los servicios?.. Tranquilo ya esta...  5.290789      5.578471   \n",
            "Óscar Figueroa, con dos medallas en el Mundial ...  5.290789      5.578471   \n",
            "Último día de competencias del Ciclismo de Pist...  5.290789      5.578471   \n",
            "\n",
            "                                                    competencias  \n",
            "titulo                                                            \n",
            "\"De nada sirven los triunfos si la paz no los c...      5.983936  \n",
            "\"Hay mejores formas para uno mostrar su forma d...      5.983936  \n",
            "#LosNacionalesXSeñal - Bahía Cupica                     5.983936  \n",
            "#LosNacionalesXSeñal - Estudiantes Utech balonmano      5.983936  \n",
            "#LosNacionalesXSeñal - Las pruebas de triatlón ...      5.983936  \n",
            "...                                                          ...  \n",
            "¿Qué harías tú? - Esto se puso salsa                    5.983936  \n",
            "¿Qué opinas sobre el machismo?                          5.983936  \n",
            "¿Te cortarón los servicios?.. Tranquilo ya esta...      5.983936  \n",
            "Óscar Figueroa, con dos medallas en el Mundial ...      5.983936  \n",
            "Último día de competencias del Ciclismo de Pist...      5.983936  \n",
            "\n",
            "[794 rows x 7 columns]\n"
          ]
        }
      ]
    },
    {
      "cell_type": "markdown",
      "source": [
        "iv. Ahora vamos a multiplicar el vector TF (La matriz) * IDF (Vector transpuesto), El resultado es una matriz de m títulos por n palabras. Y dividir el dataset en test y train. En producción se debería dividir los datos antes de calcular el TF-IDF , y para calcular la matriz TFIDF en testing es necesario calcular la frecuencia de las palabras en testing utilizando el orden y las palabras en training y utilizar el IDF de training, pero no es necesario para esta tarea.\n",
        "\n",
        "Eliminanos los valores que estan nulos"
      ],
      "metadata": {
        "id": "f9S4ZK7BzCnF"
      }
    },
    {
      "cell_type": "code",
      "source": [
        "df = df.dropna(subset=['titulo'])"
      ],
      "metadata": {
        "id": "uepgDzBKzJ21"
      },
      "execution_count": 52,
      "outputs": []
    },
    {
      "cell_type": "markdown",
      "source": [
        "\n",
        "Reindexar el dataframe después de eliminar los valores nulos"
      ],
      "metadata": {
        "id": "9pcHjcGPzMrz"
      }
    },
    {
      "cell_type": "code",
      "source": [
        "\n",
        "df = df.reset_index(drop=True)"
      ],
      "metadata": {
        "id": "SEurz_-uzKzC"
      },
      "execution_count": 53,
      "outputs": []
    },
    {
      "cell_type": "markdown",
      "source": [
        "dividemos los datos en entrenamiento y prueba"
      ],
      "metadata": {
        "id": "qZd9nrFszSsP"
      }
    },
    {
      "cell_type": "code",
      "source": [
        "X_train, X_test, y_train, y_test = train_test_split(df['titulo'], df['categoria'], test_size=0.2, random_state=42)\n"
      ],
      "metadata": {
        "id": "KVoaK2BszRgh"
      },
      "execution_count": 54,
      "outputs": []
    },
    {
      "cell_type": "code",
      "source": [
        "df.to_csv('train_2.csv', index=False)"
      ],
      "metadata": {
        "id": "bk4PHPi8bSX6"
      },
      "execution_count": 82,
      "outputs": []
    },
    {
      "cell_type": "markdown",
      "source": [
        "creamos el vectorizador TF-IDF"
      ],
      "metadata": {
        "id": "PEIMliEozZdY"
      }
    },
    {
      "cell_type": "code",
      "source": [
        "tfidfVectorizer = TfidfVectorizer(stop_words=None)"
      ],
      "metadata": {
        "id": "BajA6ilezX3W"
      },
      "execution_count": 55,
      "outputs": []
    },
    {
      "cell_type": "markdown",
      "source": [
        "Transformamos los datos de entrenamiento"
      ],
      "metadata": {
        "id": "QCHUEyIgzeXZ"
      }
    },
    {
      "cell_type": "code",
      "source": [
        "tfidfTrain = tfidfVectorizer.fit_transform(X_train)"
      ],
      "metadata": {
        "id": "muEbuk6wze_m"
      },
      "execution_count": 56,
      "outputs": []
    },
    {
      "cell_type": "markdown",
      "source": [
        "\n",
        "Transformamos los datos de prueba"
      ],
      "metadata": {
        "id": "78KQL97mziHl"
      }
    },
    {
      "cell_type": "code",
      "source": [
        "tfidfTest = tfidfVectorizer.transform(X_test)"
      ],
      "metadata": {
        "id": "8xQ3jgcjziqD"
      },
      "execution_count": 57,
      "outputs": []
    },
    {
      "cell_type": "code",
      "source": [
        "\n",
        "print(\"Dimensiones de la matriz TF-IDF de entrenamiento:\", tfidfTrain.shape)\n",
        "print(\"Dimensiones de la matriz TF-IDF de prueba:\", tfidfTest.shape)"
      ],
      "metadata": {
        "colab": {
          "base_uri": "https://localhost:8080/",
          "height": 0
        },
        "id": "eaINs59yzlit",
        "outputId": "5da83c10-7b83-4497-a4e9-dede1b068997"
      },
      "execution_count": 58,
      "outputs": [
        {
          "output_type": "stream",
          "name": "stdout",
          "text": [
            "Dimensiones de la matriz TF-IDF de entrenamiento: (635, 1557)\n",
            "Dimensiones de la matriz TF-IDF de prueba: (159, 1557)\n"
          ]
        }
      ]
    },
    {
      "cell_type": "markdown",
      "source": [
        "v. Utilizando la matriz vamos a entrenar 3 modelos, una regresión logística, un random forest y un GBM. Vamos a crear una matriz de confusión y vamos a comparar los 3 modelos. ¿Cuál es el mejor modelo?, incluir métricas como accuracy, precision y recall para cada modelo"
      ],
      "metadata": {
        "id": "6_260c_ezoFE"
      }
    },
    {
      "cell_type": "code",
      "source": [
        "scaler = StandardScaler(with_mean=False)\n",
        "tfidf_train_scaled = scaler.fit_transform(tfidfTrain)\n",
        "tfidf_test_scaled = scaler.transform(tfidfTest)"
      ],
      "metadata": {
        "id": "TVZ-tsQAzo4E"
      },
      "execution_count": 59,
      "outputs": []
    },
    {
      "cell_type": "markdown",
      "source": [
        "Modelo de regrecion logistica"
      ],
      "metadata": {
        "id": "fVkqDstWzvbV"
      }
    },
    {
      "cell_type": "code",
      "source": [
        "regrecionLogistica = LogisticRegression(max_iter=7000)\n",
        "regrecionLogistica.fit(tfidfTrain, y_train)\n",
        "prediccionRegrecion = regrecionLogistica.predict(tfidfTest)"
      ],
      "metadata": {
        "id": "YIH5Qoo_zwAO"
      },
      "execution_count": 60,
      "outputs": []
    },
    {
      "cell_type": "markdown",
      "source": [
        "Generamos el accuracy el precision y el recall"
      ],
      "metadata": {
        "id": "NP5kQ1FZzzSn"
      }
    },
    {
      "cell_type": "code",
      "source": [
        "regrecionLogisticaAccuracy = accuracy_score(y_test, prediccionRegrecion)\n",
        "regrecionLogisticaprecision = precision_score(y_test, prediccionRegrecion, average='weighted', zero_division=1)\n",
        "regrecionLogisticaRecall = recall_score(y_test, prediccionRegrecion, average='weighted')"
      ],
      "metadata": {
        "id": "c5NRC68rzzvf"
      },
      "execution_count": 61,
      "outputs": []
    },
    {
      "cell_type": "markdown",
      "source": [
        "Creamos la matriz de confusion pa el modelo de regresion"
      ],
      "metadata": {
        "id": "W-9ICW6wz2YF"
      }
    },
    {
      "cell_type": "code",
      "source": [
        "\n",
        "regrecionLogisticaMatriz = confusion_matrix(y_test, prediccionRegrecion)"
      ],
      "metadata": {
        "id": "fNdLPuwJz22E"
      },
      "execution_count": 62,
      "outputs": []
    },
    {
      "cell_type": "code",
      "source": [
        "print(\"Regresión Logística\")\n",
        "print(\"Accuracy:\", regrecionLogisticaAccuracy)\n",
        "print(\"Precision:\", regrecionLogisticaprecision)\n",
        "print(\"Recall: \", regrecionLogisticaRecall)\n",
        "print(\"Matriz de Confusión\")\n",
        "print(regrecionLogisticaMatriz)"
      ],
      "metadata": {
        "colab": {
          "base_uri": "https://localhost:8080/",
          "height": 0
        },
        "id": "Y2PC3obsz5ze",
        "outputId": "4d4e2346-9730-46bd-d8f4-4eb390bb7a4e"
      },
      "execution_count": 63,
      "outputs": [
        {
          "output_type": "stream",
          "name": "stdout",
          "text": [
            "Regresión Logística\n",
            "Accuracy: 0.6477987421383647\n",
            "Precision: 0.638127252636036\n",
            "Recall:  0.6477987421383647\n",
            "Matriz de Confusión\n",
            "[[33  0  0  0  0  2]\n",
            " [ 2  8  9  0  0  2]\n",
            " [ 2  0 40  0  0  3]\n",
            " [ 3  1  5  1  0  2]\n",
            " [ 2  2  2  0  3  2]\n",
            " [ 3  5  7  2  0 18]]\n"
          ]
        }
      ]
    },
    {
      "cell_type": "markdown",
      "source": [
        "Modelo random forest"
      ],
      "metadata": {
        "id": "YvJNagw50BZY"
      }
    },
    {
      "cell_type": "code",
      "source": [
        "randomForest = RandomForestClassifier(min_samples_split=50, min_samples_leaf=1)\n"
      ],
      "metadata": {
        "id": "KoJowjvnz_Lp"
      },
      "execution_count": 64,
      "outputs": []
    },
    {
      "cell_type": "code",
      "source": [
        "randomForest.fit(tfidf_train_scaled, y_train)\n"
      ],
      "metadata": {
        "colab": {
          "base_uri": "https://localhost:8080/",
          "height": 75
        },
        "id": "KXskWs1oz_zy",
        "outputId": "52cd280b-0693-4691-b498-959c171ccbce"
      },
      "execution_count": 65,
      "outputs": [
        {
          "output_type": "execute_result",
          "data": {
            "text/plain": [
              "RandomForestClassifier(min_samples_split=50)"
            ],
            "text/html": [
              "<style>#sk-container-id-1 {color: black;background-color: white;}#sk-container-id-1 pre{padding: 0;}#sk-container-id-1 div.sk-toggleable {background-color: white;}#sk-container-id-1 label.sk-toggleable__label {cursor: pointer;display: block;width: 100%;margin-bottom: 0;padding: 0.3em;box-sizing: border-box;text-align: center;}#sk-container-id-1 label.sk-toggleable__label-arrow:before {content: \"▸\";float: left;margin-right: 0.25em;color: #696969;}#sk-container-id-1 label.sk-toggleable__label-arrow:hover:before {color: black;}#sk-container-id-1 div.sk-estimator:hover label.sk-toggleable__label-arrow:before {color: black;}#sk-container-id-1 div.sk-toggleable__content {max-height: 0;max-width: 0;overflow: hidden;text-align: left;background-color: #f0f8ff;}#sk-container-id-1 div.sk-toggleable__content pre {margin: 0.2em;color: black;border-radius: 0.25em;background-color: #f0f8ff;}#sk-container-id-1 input.sk-toggleable__control:checked~div.sk-toggleable__content {max-height: 200px;max-width: 100%;overflow: auto;}#sk-container-id-1 input.sk-toggleable__control:checked~label.sk-toggleable__label-arrow:before {content: \"▾\";}#sk-container-id-1 div.sk-estimator input.sk-toggleable__control:checked~label.sk-toggleable__label {background-color: #d4ebff;}#sk-container-id-1 div.sk-label input.sk-toggleable__control:checked~label.sk-toggleable__label {background-color: #d4ebff;}#sk-container-id-1 input.sk-hidden--visually {border: 0;clip: rect(1px 1px 1px 1px);clip: rect(1px, 1px, 1px, 1px);height: 1px;margin: -1px;overflow: hidden;padding: 0;position: absolute;width: 1px;}#sk-container-id-1 div.sk-estimator {font-family: monospace;background-color: #f0f8ff;border: 1px dotted black;border-radius: 0.25em;box-sizing: border-box;margin-bottom: 0.5em;}#sk-container-id-1 div.sk-estimator:hover {background-color: #d4ebff;}#sk-container-id-1 div.sk-parallel-item::after {content: \"\";width: 100%;border-bottom: 1px solid gray;flex-grow: 1;}#sk-container-id-1 div.sk-label:hover label.sk-toggleable__label {background-color: #d4ebff;}#sk-container-id-1 div.sk-serial::before {content: \"\";position: absolute;border-left: 1px solid gray;box-sizing: border-box;top: 0;bottom: 0;left: 50%;z-index: 0;}#sk-container-id-1 div.sk-serial {display: flex;flex-direction: column;align-items: center;background-color: white;padding-right: 0.2em;padding-left: 0.2em;position: relative;}#sk-container-id-1 div.sk-item {position: relative;z-index: 1;}#sk-container-id-1 div.sk-parallel {display: flex;align-items: stretch;justify-content: center;background-color: white;position: relative;}#sk-container-id-1 div.sk-item::before, #sk-container-id-1 div.sk-parallel-item::before {content: \"\";position: absolute;border-left: 1px solid gray;box-sizing: border-box;top: 0;bottom: 0;left: 50%;z-index: -1;}#sk-container-id-1 div.sk-parallel-item {display: flex;flex-direction: column;z-index: 1;position: relative;background-color: white;}#sk-container-id-1 div.sk-parallel-item:first-child::after {align-self: flex-end;width: 50%;}#sk-container-id-1 div.sk-parallel-item:last-child::after {align-self: flex-start;width: 50%;}#sk-container-id-1 div.sk-parallel-item:only-child::after {width: 0;}#sk-container-id-1 div.sk-dashed-wrapped {border: 1px dashed gray;margin: 0 0.4em 0.5em 0.4em;box-sizing: border-box;padding-bottom: 0.4em;background-color: white;}#sk-container-id-1 div.sk-label label {font-family: monospace;font-weight: bold;display: inline-block;line-height: 1.2em;}#sk-container-id-1 div.sk-label-container {text-align: center;}#sk-container-id-1 div.sk-container {/* jupyter's `normalize.less` sets `[hidden] { display: none; }` but bootstrap.min.css set `[hidden] { display: none !important; }` so we also need the `!important` here to be able to override the default hidden behavior on the sphinx rendered scikit-learn.org. See: https://github.com/scikit-learn/scikit-learn/issues/21755 */display: inline-block !important;position: relative;}#sk-container-id-1 div.sk-text-repr-fallback {display: none;}</style><div id=\"sk-container-id-1\" class=\"sk-top-container\"><div class=\"sk-text-repr-fallback\"><pre>RandomForestClassifier(min_samples_split=50)</pre><b>In a Jupyter environment, please rerun this cell to show the HTML representation or trust the notebook. <br />On GitHub, the HTML representation is unable to render, please try loading this page with nbviewer.org.</b></div><div class=\"sk-container\" hidden><div class=\"sk-item\"><div class=\"sk-estimator sk-toggleable\"><input class=\"sk-toggleable__control sk-hidden--visually\" id=\"sk-estimator-id-1\" type=\"checkbox\" checked><label for=\"sk-estimator-id-1\" class=\"sk-toggleable__label sk-toggleable__label-arrow\">RandomForestClassifier</label><div class=\"sk-toggleable__content\"><pre>RandomForestClassifier(min_samples_split=50)</pre></div></div></div></div></div>"
            ]
          },
          "metadata": {},
          "execution_count": 65
        }
      ]
    },
    {
      "cell_type": "code",
      "source": [
        "randomForestPredcion = randomForest.predict(tfidf_test_scaled)\n"
      ],
      "metadata": {
        "id": "HflH4WCY0LY2"
      },
      "execution_count": 70,
      "outputs": []
    },
    {
      "cell_type": "code",
      "source": [
        "randomForestAccuracy = accuracy_score(y_test, randomForestPredcion)\n",
        "randomForestPrecision = precision_score(y_test, randomForestPredcion, average='weighted', zero_division=1)\n",
        "randomForestRecall = recall_score(y_test, randomForestPredcion, average='weighted', zero_division=1)"
      ],
      "metadata": {
        "id": "SEp6sb-10dGl"
      },
      "execution_count": 71,
      "outputs": []
    },
    {
      "cell_type": "markdown",
      "source": [
        "\n",
        "Creamos la matriz de confusion pa el modelo de random forest"
      ],
      "metadata": {
        "id": "fo4QAba20vaF"
      }
    },
    {
      "cell_type": "code",
      "source": [
        "\n",
        "randomForestMatriz = confusion_matrix(y_test, randomForestPredcion)"
      ],
      "metadata": {
        "id": "DiC7ksnn0v9N"
      },
      "execution_count": 72,
      "outputs": []
    },
    {
      "cell_type": "code",
      "source": [
        "print(\"Random Forest\")\n",
        "print(\"Accuracy:\", randomForestAccuracy)\n",
        "print(\"Precision:\", randomForestPrecision)\n",
        "print(\"Recall:\", randomForestRecall)\n",
        "print(\"Matriz de Confusión\")\n",
        "print(randomForestMatriz)"
      ],
      "metadata": {
        "colab": {
          "base_uri": "https://localhost:8080/",
          "height": 0
        },
        "id": "AyJ-eUCA0zJ9",
        "outputId": "d9c07798-51b6-41ff-9f59-bdc623c68860"
      },
      "execution_count": 73,
      "outputs": [
        {
          "output_type": "stream",
          "name": "stdout",
          "text": [
            "Random Forest\n",
            "Accuracy: 0.6477987421383647\n",
            "Precision: 0.6489628837872169\n",
            "Recall: 0.6477987421383647\n",
            "Matriz de Confusión\n",
            "[[33  1  0  0  0  1]\n",
            " [ 1  8  9  1  0  2]\n",
            " [ 1  0 39  0  0  5]\n",
            " [ 1  2  4  3  0  2]\n",
            " [ 2  2  1  1  3  2]\n",
            " [ 2  7  7  2  0 17]]\n"
          ]
        }
      ]
    },
    {
      "cell_type": "markdown",
      "source": [
        "Modelo de GBM"
      ],
      "metadata": {
        "id": "uHXLk6MM02uk"
      }
    },
    {
      "cell_type": "code",
      "source": [
        "gbm = GradientBoostingClassifier(min_samples_split=50, min_samples_leaf=1, learning_rate=0.4)\n"
      ],
      "metadata": {
        "id": "r1ypLmpS0161"
      },
      "execution_count": 74,
      "outputs": []
    },
    {
      "cell_type": "code",
      "source": [
        "gbm.fit(tfidf_train_scaled, y_train)\n"
      ],
      "metadata": {
        "colab": {
          "base_uri": "https://localhost:8080/",
          "height": 75
        },
        "id": "dFERfVf304kS",
        "outputId": "5fb9e79b-86c6-4738-9ecc-693ea1588443"
      },
      "execution_count": 75,
      "outputs": [
        {
          "output_type": "execute_result",
          "data": {
            "text/plain": [
              "GradientBoostingClassifier(learning_rate=0.4, min_samples_split=50)"
            ],
            "text/html": [
              "<style>#sk-container-id-2 {color: black;background-color: white;}#sk-container-id-2 pre{padding: 0;}#sk-container-id-2 div.sk-toggleable {background-color: white;}#sk-container-id-2 label.sk-toggleable__label {cursor: pointer;display: block;width: 100%;margin-bottom: 0;padding: 0.3em;box-sizing: border-box;text-align: center;}#sk-container-id-2 label.sk-toggleable__label-arrow:before {content: \"▸\";float: left;margin-right: 0.25em;color: #696969;}#sk-container-id-2 label.sk-toggleable__label-arrow:hover:before {color: black;}#sk-container-id-2 div.sk-estimator:hover label.sk-toggleable__label-arrow:before {color: black;}#sk-container-id-2 div.sk-toggleable__content {max-height: 0;max-width: 0;overflow: hidden;text-align: left;background-color: #f0f8ff;}#sk-container-id-2 div.sk-toggleable__content pre {margin: 0.2em;color: black;border-radius: 0.25em;background-color: #f0f8ff;}#sk-container-id-2 input.sk-toggleable__control:checked~div.sk-toggleable__content {max-height: 200px;max-width: 100%;overflow: auto;}#sk-container-id-2 input.sk-toggleable__control:checked~label.sk-toggleable__label-arrow:before {content: \"▾\";}#sk-container-id-2 div.sk-estimator input.sk-toggleable__control:checked~label.sk-toggleable__label {background-color: #d4ebff;}#sk-container-id-2 div.sk-label input.sk-toggleable__control:checked~label.sk-toggleable__label {background-color: #d4ebff;}#sk-container-id-2 input.sk-hidden--visually {border: 0;clip: rect(1px 1px 1px 1px);clip: rect(1px, 1px, 1px, 1px);height: 1px;margin: -1px;overflow: hidden;padding: 0;position: absolute;width: 1px;}#sk-container-id-2 div.sk-estimator {font-family: monospace;background-color: #f0f8ff;border: 1px dotted black;border-radius: 0.25em;box-sizing: border-box;margin-bottom: 0.5em;}#sk-container-id-2 div.sk-estimator:hover {background-color: #d4ebff;}#sk-container-id-2 div.sk-parallel-item::after {content: \"\";width: 100%;border-bottom: 1px solid gray;flex-grow: 1;}#sk-container-id-2 div.sk-label:hover label.sk-toggleable__label {background-color: #d4ebff;}#sk-container-id-2 div.sk-serial::before {content: \"\";position: absolute;border-left: 1px solid gray;box-sizing: border-box;top: 0;bottom: 0;left: 50%;z-index: 0;}#sk-container-id-2 div.sk-serial {display: flex;flex-direction: column;align-items: center;background-color: white;padding-right: 0.2em;padding-left: 0.2em;position: relative;}#sk-container-id-2 div.sk-item {position: relative;z-index: 1;}#sk-container-id-2 div.sk-parallel {display: flex;align-items: stretch;justify-content: center;background-color: white;position: relative;}#sk-container-id-2 div.sk-item::before, #sk-container-id-2 div.sk-parallel-item::before {content: \"\";position: absolute;border-left: 1px solid gray;box-sizing: border-box;top: 0;bottom: 0;left: 50%;z-index: -1;}#sk-container-id-2 div.sk-parallel-item {display: flex;flex-direction: column;z-index: 1;position: relative;background-color: white;}#sk-container-id-2 div.sk-parallel-item:first-child::after {align-self: flex-end;width: 50%;}#sk-container-id-2 div.sk-parallel-item:last-child::after {align-self: flex-start;width: 50%;}#sk-container-id-2 div.sk-parallel-item:only-child::after {width: 0;}#sk-container-id-2 div.sk-dashed-wrapped {border: 1px dashed gray;margin: 0 0.4em 0.5em 0.4em;box-sizing: border-box;padding-bottom: 0.4em;background-color: white;}#sk-container-id-2 div.sk-label label {font-family: monospace;font-weight: bold;display: inline-block;line-height: 1.2em;}#sk-container-id-2 div.sk-label-container {text-align: center;}#sk-container-id-2 div.sk-container {/* jupyter's `normalize.less` sets `[hidden] { display: none; }` but bootstrap.min.css set `[hidden] { display: none !important; }` so we also need the `!important` here to be able to override the default hidden behavior on the sphinx rendered scikit-learn.org. See: https://github.com/scikit-learn/scikit-learn/issues/21755 */display: inline-block !important;position: relative;}#sk-container-id-2 div.sk-text-repr-fallback {display: none;}</style><div id=\"sk-container-id-2\" class=\"sk-top-container\"><div class=\"sk-text-repr-fallback\"><pre>GradientBoostingClassifier(learning_rate=0.4, min_samples_split=50)</pre><b>In a Jupyter environment, please rerun this cell to show the HTML representation or trust the notebook. <br />On GitHub, the HTML representation is unable to render, please try loading this page with nbviewer.org.</b></div><div class=\"sk-container\" hidden><div class=\"sk-item\"><div class=\"sk-estimator sk-toggleable\"><input class=\"sk-toggleable__control sk-hidden--visually\" id=\"sk-estimator-id-2\" type=\"checkbox\" checked><label for=\"sk-estimator-id-2\" class=\"sk-toggleable__label sk-toggleable__label-arrow\">GradientBoostingClassifier</label><div class=\"sk-toggleable__content\"><pre>GradientBoostingClassifier(learning_rate=0.4, min_samples_split=50)</pre></div></div></div></div></div>"
            ]
          },
          "metadata": {},
          "execution_count": 75
        }
      ]
    },
    {
      "cell_type": "markdown",
      "source": [
        "Realizamos la predicion en los datos de prueba"
      ],
      "metadata": {
        "id": "3mhFsd6j09bB"
      }
    },
    {
      "cell_type": "code",
      "source": [
        "gbmPredicion = gbm.predict(tfidf_test_scaled)"
      ],
      "metadata": {
        "id": "Ov4gMkLv09-g"
      },
      "execution_count": 76,
      "outputs": []
    },
    {
      "cell_type": "code",
      "source": [
        "gbmAccuracy = accuracy_score(y_test, gbmPredicion)\n",
        "gbmPrecision = precision_score(y_test, gbmPredicion, average='weighted', zero_division=1)\n",
        "gbmRecall = recall_score(y_test, gbmPredicion, average='weighted', zero_division=1)"
      ],
      "metadata": {
        "id": "yVfbJOuU1B1Z"
      },
      "execution_count": 77,
      "outputs": []
    },
    {
      "cell_type": "markdown",
      "source": [
        "Creamos la matriz de confusion pa el modelo de GBM"
      ],
      "metadata": {
        "id": "231H3-XE1MMq"
      }
    },
    {
      "cell_type": "markdown",
      "source": [],
      "metadata": {
        "id": "gRfGagJc1FnS"
      }
    },
    {
      "cell_type": "code",
      "source": [
        "gbmMatriz = confusion_matrix(y_test, gbmPredicion)"
      ],
      "metadata": {
        "id": "U9tOQV4_1C0J"
      },
      "execution_count": 78,
      "outputs": []
    },
    {
      "cell_type": "code",
      "source": [
        "print(\"GBM\")\n",
        "print(\"Accuracy:\", gbmAccuracy)\n",
        "print(\"Precision:\", gbmPrecision)\n",
        "print(\"Recall:\", gbmRecall)\n",
        "print(\"Matriz de Confusión\")\n",
        "print(gbmMatriz)"
      ],
      "metadata": {
        "colab": {
          "base_uri": "https://localhost:8080/",
          "height": 0
        },
        "id": "VIawxl8X1RcL",
        "outputId": "508f30ee-008c-48bd-fe62-5c6116fb44de"
      },
      "execution_count": 79,
      "outputs": [
        {
          "output_type": "stream",
          "name": "stdout",
          "text": [
            "GBM\n",
            "Accuracy: 0.6226415094339622\n",
            "Precision: 0.647411773210694\n",
            "Recall: 0.6226415094339622\n",
            "Matriz de Confusión\n",
            "[[28  2  2  1  0  2]\n",
            " [ 1 10  4  4  0  2]\n",
            " [ 0  0 36  4  0  5]\n",
            " [ 0  1  4  4  0  3]\n",
            " [ 1  2  3  1  4  0]\n",
            " [ 4  3  9  2  0 17]]\n"
          ]
        }
      ]
    },
    {
      "cell_type": "markdown",
      "source": [
        "**¿Cuál es el mejor modelo?**\n",
        "\n",
        "\n",
        "Exactitud (Accuracy):\n",
        "\n",
        "Tanto el Random Forest como la Regresión Logística tienen la misma exactitud (0.648), que es mayor que la del GBM (0.623).\n",
        "Precisión (Precision):\n",
        "\n",
        "Random Forest tiene la mayor precisión (0.649), seguido de GBM (0.647) y luego la Regresión Logística (0.638).\n",
        "Recuperación (Recall):\n",
        "\n",
        "Random Forest y la Regresión Logística tienen la misma recuperación (0.648), mientras que GBM tiene una menor (0.623).\n",
        "Matriz de Confusión:\n",
        "\n",
        "La matriz de confusión del Random Forest muestra un buen rendimiento en la mayoría de las clases, con una cantidad relativamente baja de falsos negativos y falsos positivos en comparación con los otros modelos.\n",
        "La Regresión Logística tiene un rendimiento similar al de Random Forest en términos de falsos positivos y negativos.\n",
        "GBM tiene más falsos positivos y negativos, especialmente en algunas clases, lo que sugiere un rendimiento inferior en la clasificación de ciertas categorías.\n",
        "\n",
        "Conclusión\n",
        "\n",
        "Considerando la precisión, la recuperación y la matriz de confusión, Random Forest es el mejor modelo entre los expuestos. Aunque la Regresión Logística tiene la misma exactitud y recuperación, Random Forest tiene una ligera ventaja en precisión y un mejor balance en la matriz de confusión, lo que indica un rendimiento más consistente en la clasificación de las diferentes categorías. GBM, aunque competitivo, tiene un rendimiento inferior en varios aspectos clave.\n",
        "\n",
        "Por lo tanto, Random Forest es el modelo recomendado en este caso debido a su mayor precisión y mejor desempeño general en la matriz de confusión."
      ],
      "metadata": {
        "id": "eP4eCDRb1Vvt"
      }
    },
    {
      "cell_type": "code",
      "source": [
        "# prompt: llamar el /content/test.csv hacer la prediccion guardar el index y la categoria donde el la categoria es la predicion del modelo, recuerda hacer todo el pre procesamoento\n",
        "\n",
        "import pandas as pd\n",
        "from sklearn.feature_extraction.text import TfidfVectorizer\n",
        "from sklearn.linear_model import LogisticRegression\n",
        "from sklearn.model_selection import train_test_split\n",
        "\n",
        "# Cargar el conjunto de datos de prueba\n",
        "test_data = pd.read_csv(\"/content/test.csv\")\n",
        "\n",
        "\n",
        "\n",
        "tfidfTest = tfidfVectorizer.transform(test_data['titulo'])\n",
        "tfidf_test_scaled = scaler.transform(tfidfTest)\n",
        "# Realizar predicciones en el conjunto de datos de prueba\n",
        "prediccionRegrecion = regrecionLogistica.predict(tfidf_test_scaled)\n",
        "prediccionRandomForest = randomForest.predict(tfidf_test_scaled)\n",
        "prediccionGBM = gbm.predict(tfidf_test_scaled)\n",
        "\n",
        "# Crear un dataframe con los resultados\n",
        "resultadosRegresionLogistica = pd.DataFrame({'ID': test_data['index'], 'categoria': prediccionRegrecion})\n",
        "resultadosForest = pd.DataFrame({'ID': test_data['index'], 'categoria': prediccionRandomForest})\n",
        "resultadosGBM = pd.DataFrame({'ID': test_data['index'], 'categoria': prediccionGBM})\n",
        "\n",
        "resultadosRegresionLogistica.to_csv('resultadosRegresionLogistica.csv', index=False)\n",
        "resultadosForest.to_csv('resultadosForest.csv', index=False)\n",
        "resultadosGBM.to_csv('resultadosGBM.csv', index=False)\n"
      ],
      "metadata": {
        "id": "EJ858yYHZwWC"
      },
      "execution_count": 84,
      "outputs": []
    },
    {
      "cell_type": "markdown",
      "source": [],
      "metadata": {
        "id": "eb_lh-pnM9YE"
      }
    },
    {
      "cell_type": "markdown",
      "source": [],
      "metadata": {
        "id": "6ghPuqys1ZA1"
      }
    }
  ]
}